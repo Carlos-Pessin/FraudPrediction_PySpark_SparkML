{
  "nbformat": 4,
  "nbformat_minor": 0,
  "metadata": {
    "colab": {
      "provenance": [],
      "toc_visible": true,
      "authorship_tag": "ABX9TyMLZM+ejV+EPEUDtRoL0UuW",
      "include_colab_link": true
    },
    "kernelspec": {
      "name": "python3",
      "display_name": "Python 3"
    },
    "language_info": {
      "name": "python"
    }
  },
  "cells": [
    {
      "cell_type": "markdown",
      "metadata": {
        "id": "view-in-github",
        "colab_type": "text"
      },
      "source": [
        "<a href=\"https://colab.research.google.com/github/Carlos-Pessin/FraudPrediction_PySpark_SparkML/blob/main/Case_PySpark.ipynb\" target=\"_parent\"><img src=\"https://colab.research.google.com/assets/colab-badge.svg\" alt=\"Open In Colab\"/></a>"
      ]
    },
    {
      "cell_type": "markdown",
      "source": [
        "# **PIX Transactions Analysis**\n",
        "\n",
        "## Objectives\n",
        "Clean and preprocess PIX transaction data\n",
        "Analyze PIX usage patterns, such as the most used channels and the most common transaction values\n",
        "Use PySpark MLlib to train and evaluate a fraud detection model\n",
        "Evaluate the model's performance and provide recommendations for future improvements\n",
        "\n",
        "## Data\n",
        "The dataset includes the following information for each transaction:\n",
        "\n",
        "Transaction details: amount, time, sender and receiver CPF/CNPJ, type\n",
        "Fraud label: a binary variable indicating whether the transaction was fraudulent (1) or not (0)\n",
        "\n",
        "## Tasks\n",
        "\n",
        "### Data Normalization:\n",
        "The dataset you will read is in JSON format.\n",
        " {\n",
        "      \"id_transacao\": int,\n",
        "      \"valor\": string,\n",
        "      \"remetente\": {\n",
        "          \"nome\": string,\n",
        "          \"banco\": string,\n",
        "          \"tipo\": string\n",
        "      },\n",
        "      \"destinatario\": {\n",
        "          \"nome\": string,\n",
        "          \"banco\":string,\n",
        "          \"tipo\": string\n",
        "      },          \n",
        "      \"categoria\":string,\n",
        "      \"chave_pix\":string,\n",
        "      \"transaction_date\":string,\n",
        "      \"fraude\":int,\n",
        "  }\n",
        "\n",
        "  - Transform it into a columnar format\n",
        "\n",
        "### Exploratory Data Analysis:\n",
        "Use PySpark to analyze PIX usage patterns:\n",
        "- most used PIX keys;\n",
        "- most common transaction values;\n",
        "- distribution of transaction values by hour and day;\n",
        "- which banks received the most transfers per day;\n",
        "- to which type of person (PF or PJ) more transactions were made\n",
        "\n",
        "### Feature Engineering:\n",
        "Present new features that may be useful for fraud detection, such as the number of transactions made by the same sender within a specific time period.\n",
        "\n",
        "### Modeling:\n",
        "Use PySpark MLlib to train and detect potential fraudulent transactions.\n",
        "\n",
        "## Notes\n",
        "- It is important to note that this is a simplified case, and in real-world scenarios, you would have to deal with more complex data, use more advanced techniques like ensemble methods, and consider domain knowledge as well as laws and regulations of financial institutions in Brazil.\n",
        "\n",
        "- There is no 100% correct answer. You need to use your critical thinking to define the best metrics and analyses for the case.\n",
        "\n"
      ],
      "metadata": {
        "id": "ZOiqB30n0CWT"
      }
    },
    {
      "cell_type": "markdown",
      "source": [
        "## Business Understanding\n",
        "You work at a bank where the primary payment method used is Pix.\n",
        "\n",
        "Using the Pix transaction database, the bank wants to understand the profile of customers who use Pix, as well as identify potential fraudulent transactions. However, there is one specific customer who has a very good relationship with the bank. Therefore, you have received the customer's transaction data for the past two years and need to create a report containing the main characteristics of these transactions.\n",
        "\n",
        "To summarize, we have two main objectives for this case:\n",
        "\n",
        "### Extract value from the data\n",
        "- To which bank does this customer transfer the most?\n",
        "- What is the number of transfers made by this customer over time?\n",
        "- Based on the value of the transfers, could a credit increase be justified?\n",
        "- What does this customer use transfers for the most?\n",
        "\n",
        "Implement a machine learning algorithm to identify potential fraudulent transactions.\n",
        "\n",
        "## Post-Processing\n",
        "Define at least five quality metrics for your data.\n",
        "\n",
        "Explain whether your data is of good quality."
      ],
      "metadata": {
        "id": "eJ-rUrWy1cOe"
      }
    },
    {
      "cell_type": "code",
      "execution_count": null,
      "metadata": {
        "colab": {
          "base_uri": "https://localhost:8080/"
        },
        "id": "flF9xMFdyxIO",
        "outputId": "5e0be317-b905-474b-b4c3-7f888669bfed"
      },
      "outputs": [
        {
          "output_type": "stream",
          "name": "stdout",
          "text": [
            "Collecting pyspark\n",
            "  Downloading pyspark-3.5.2.tar.gz (317.3 MB)\n",
            "\u001b[2K     \u001b[90m━━━━━━━━━━━━━━━━━━━━━━━━━━━━━━━━━━━━━━━━\u001b[0m \u001b[32m317.3/317.3 MB\u001b[0m \u001b[31m3.8 MB/s\u001b[0m eta \u001b[36m0:00:00\u001b[0m\n",
            "\u001b[?25h  Preparing metadata (setup.py) ... \u001b[?25l\u001b[?25hdone\n",
            "Requirement already satisfied: py4j==0.10.9.7 in /usr/local/lib/python3.10/dist-packages (from pyspark) (0.10.9.7)\n",
            "Building wheels for collected packages: pyspark\n",
            "  Building wheel for pyspark (setup.py) ... \u001b[?25l\u001b[?25hdone\n",
            "  Created wheel for pyspark: filename=pyspark-3.5.2-py2.py3-none-any.whl size=317812365 sha256=4e7c41cb1a155d74dbb647bf2e82b67eb6be95f684cfa1ca231529e6ff1bf8f8\n",
            "  Stored in directory: /root/.cache/pip/wheels/34/34/bd/03944534c44b677cd5859f248090daa9fb27b3c8f8e5f49574\n",
            "Successfully built pyspark\n",
            "Installing collected packages: pyspark\n",
            "Successfully installed pyspark-3.5.2\n"
          ]
        }
      ],
      "source": [
        "!pip install pyspark"
      ]
    },
    {
      "cell_type": "code",
      "source": [
        "!pip install pyngrok"
      ],
      "metadata": {
        "colab": {
          "base_uri": "https://localhost:8080/"
        },
        "id": "_Ia52SCz3g36",
        "outputId": "40965a64-6e63-4dc8-bd67-9e6319ca01a7"
      },
      "execution_count": null,
      "outputs": [
        {
          "output_type": "stream",
          "name": "stdout",
          "text": [
            "Collecting pyngrok\n",
            "  Downloading pyngrok-7.2.0-py3-none-any.whl.metadata (7.4 kB)\n",
            "Requirement already satisfied: PyYAML>=5.1 in /usr/local/lib/python3.10/dist-packages (from pyngrok) (6.0.2)\n",
            "Downloading pyngrok-7.2.0-py3-none-any.whl (22 kB)\n",
            "Installing collected packages: pyngrok\n",
            "Successfully installed pyngrok-7.2.0\n"
          ]
        }
      ]
    },
    {
      "cell_type": "code",
      "source": [
        "!pip install pydeequ==1.0.1"
      ],
      "metadata": {
        "colab": {
          "base_uri": "https://localhost:8080/"
        },
        "id": "jJCf-BZL1jP6",
        "outputId": "4fdbb4d9-d439-4ff7-a3e2-56ca8d29d77d"
      },
      "execution_count": 191,
      "outputs": [
        {
          "output_type": "stream",
          "name": "stdout",
          "text": [
            "Collecting pydeequ==1.0.1\n",
            "  Downloading pydeequ-1.0.1-py3-none-any.whl.metadata (8.5 kB)\n",
            "Requirement already satisfied: numpy>=1.14.1 in /usr/local/lib/python3.10/dist-packages (from pydeequ==1.0.1) (1.26.4)\n",
            "Requirement already satisfied: pandas>=0.23.0 in /usr/local/lib/python3.10/dist-packages (from pydeequ==1.0.1) (2.1.4)\n",
            "Requirement already satisfied: python-dateutil>=2.8.2 in /usr/local/lib/python3.10/dist-packages (from pandas>=0.23.0->pydeequ==1.0.1) (2.8.2)\n",
            "Requirement already satisfied: pytz>=2020.1 in /usr/local/lib/python3.10/dist-packages (from pandas>=0.23.0->pydeequ==1.0.1) (2024.1)\n",
            "Requirement already satisfied: tzdata>=2022.1 in /usr/local/lib/python3.10/dist-packages (from pandas>=0.23.0->pydeequ==1.0.1) (2024.1)\n",
            "Requirement already satisfied: six>=1.5 in /usr/local/lib/python3.10/dist-packages (from python-dateutil>=2.8.2->pandas>=0.23.0->pydeequ==1.0.1) (1.16.0)\n",
            "Downloading pydeequ-1.0.1-py3-none-any.whl (36 kB)\n",
            "Installing collected packages: pydeequ\n",
            "  Attempting uninstall: pydeequ\n",
            "    Found existing installation: pydeequ 1.4.0\n",
            "    Uninstalling pydeequ-1.4.0:\n",
            "      Successfully uninstalled pydeequ-1.4.0\n",
            "Successfully installed pydeequ-1.0.1\n"
          ]
        }
      ]
    },
    {
      "cell_type": "code",
      "source": [
        "!wget -qnc https://bin.equinox.io/c/bNyj1mQVY4c/ngrok-v3-stable-windows-amd64.zip\n",
        "!unzip -n -q ngrok-v3-stable-windows-amd64.zip"
      ],
      "metadata": {
        "id": "E-t_IzDG34F9"
      },
      "execution_count": 1,
      "outputs": []
    },
    {
      "cell_type": "code",
      "source": [
        "from google.colab import drive\n",
        "drive.mount('/content/drive')"
      ],
      "metadata": {
        "colab": {
          "base_uri": "https://localhost:8080/"
        },
        "id": "srH2Kuap3WuQ",
        "outputId": "eb924cab-2b71-4904-e844-6aa87fb4475a"
      },
      "execution_count": 4,
      "outputs": [
        {
          "output_type": "stream",
          "name": "stdout",
          "text": [
            "Drive already mounted at /content/drive; to attempt to forcibly remount, call drive.mount(\"/content/drive\", force_remount=True).\n"
          ]
        }
      ]
    },
    {
      "cell_type": "code",
      "source": [
        "from pyspark.sql import SparkSession\n",
        "from pyspark.sql.functions import *\n",
        "from pyspark.sql.types import *\n",
        "from pyspark.ml.feature import StringIndexer, VectorAssembler\n",
        "from pyspark.ml.classification import LogisticRegression, RandomForestClassifier\n",
        "from pyspark.ml import Pipeline\n",
        "from pyspark.mllib.evaluation import MulticlassMetrics\n",
        "from pyngrok import ngrok\n",
        "import matplotlib.pyplot as plt\n",
        "import seaborn as sns\n",
        "import pydeequ\n",
        "from pydeequ.analyzers import *\n",
        "from pydeequ.suggestions import *\n",
        "from pydeequ.verification import *\n",
        "from pydeequ.checks import Check, CheckLevel, ConstrainableDataTypes"
      ],
      "metadata": {
        "id": "WRWrsTak3YPW",
        "colab": {
          "base_uri": "https://localhost:8080/"
        },
        "outputId": "f2d99215-a424-48e0-d396-1626b2fcb6a6"
      },
      "execution_count": 2,
      "outputs": [
        {
          "output_type": "stream",
          "name": "stderr",
          "text": [
            "ERROR:logger:Please set env variable SPARK_VERSION\n"
          ]
        }
      ]
    },
    {
      "cell_type": "code",
      "source": [
        "spark = (\n",
        "    SparkSession.builder\n",
        "      .config('spark.ui.port', '4050')\n",
        "      .config(\"spark.jars.packages\", pydeequ.deequ_maven_coord)\n",
        "      .config(\"spark.jars.excludes\", pydeequ.f2j_maven_coord)\n",
        "      .appName(\"SparkML Case\")\n",
        "      .getOrCreate()\n",
        ")"
      ],
      "metadata": {
        "id": "hllxMhTf3Y6o"
      },
      "execution_count": 3,
      "outputs": []
    },
    {
      "cell_type": "code",
      "source": [
        "!ngrok config add-authtoken 2lKu62Y5y2QKTzUBH0zed1BvC2R_6gZGxyJ8mbx9n75pSUkHq"
      ],
      "metadata": {
        "colab": {
          "base_uri": "https://localhost:8080/"
        },
        "id": "arddz88S5q_R",
        "outputId": "9026c155-e87a-4d4f-d3cb-e7bdde1ce891"
      },
      "execution_count": 4,
      "outputs": [
        {
          "output_type": "stream",
          "name": "stdout",
          "text": [
            "Authtoken saved to configuration file: /root/.config/ngrok/ngrok.yml\n"
          ]
        }
      ]
    },
    {
      "cell_type": "code",
      "source": [
        "public_url = ngrok.connect(4050)"
      ],
      "metadata": {
        "colab": {
          "base_uri": "https://localhost:8080/"
        },
        "id": "tNEpvdFn5uV7",
        "outputId": "8cb780c2-bece-43a7-9937-3a64ba3b46b3"
      },
      "execution_count": 5,
      "outputs": [
        {
          "output_type": "stream",
          "name": "stderr",
          "text": [
            "WARNING:pyngrok.process.ngrok:t=2024-09-02T18:26:37+0000 lvl=warn msg=\"ngrok config file found at both XDG and legacy locations, using XDG location\" xdg_path=/root/.config/ngrok/ngrok.yml legacy_path=/root/.ngrok2/ngrok.yml\n"
          ]
        }
      ]
    },
    {
      "cell_type": "code",
      "source": [
        "#!ngrok http http://localhost:4050"
      ],
      "metadata": {
        "id": "9Cc1g8ff7j14"
      },
      "execution_count": null,
      "outputs": []
    },
    {
      "cell_type": "code",
      "source": [
        "schema_remetente_destinatario = StructType([\n",
        "    StructField('nome', StringType()),\n",
        "    StructField('banco', StringType()),\n",
        "    StructField('tipo', StringType()),\n",
        "])\n",
        "\n",
        "\n",
        "schema_base_pix = StructType([\n",
        "    StructField('id_transacao', IntegerType()),\n",
        "    StructField('valor', DoubleType()),\n",
        "    StructField('remetente', schema_remetente_destinatario),\n",
        "    StructField('destinatario', schema_remetente_destinatario),\n",
        "    StructField('transaction_date', TimestampType()),\n",
        "    StructField('chave_pix', StringType()),\n",
        "    StructField('categoria', StringType()),\n",
        "    StructField('fraude', IntegerType())\n",
        "])"
      ],
      "metadata": {
        "id": "6b8wBSP_3bAn"
      },
      "execution_count": 6,
      "outputs": []
    },
    {
      "cell_type": "code",
      "source": [
        "df = spark.read.json(\n",
        "    '/content/drive/MyDrive/Colab Notebooks/Formação em dados/Spark/Datasets/case_final.json',\n",
        "    schema=schema_base_pix,\n",
        "    timestampFormat=\"yyyy-MM-dd HH:mm:ss\"\n",
        ")"
      ],
      "metadata": {
        "id": "lwMQgdSI3bqV"
      },
      "execution_count": 7,
      "outputs": []
    },
    {
      "cell_type": "markdown",
      "source": [
        "## Data Understanding"
      ],
      "metadata": {
        "id": "SkkWDht91PNZ"
      }
    },
    {
      "cell_type": "code",
      "source": [
        "df.printSchema(),\n",
        "df.show()"
      ],
      "metadata": {
        "colab": {
          "base_uri": "https://localhost:8080/"
        },
        "id": "4-wr4ecE3dhx",
        "outputId": "d0c58192-1903-47df-e56a-ae427021bd98"
      },
      "execution_count": 8,
      "outputs": [
        {
          "output_type": "stream",
          "name": "stdout",
          "text": [
            "root\n",
            " |-- id_transacao: integer (nullable = true)\n",
            " |-- valor: double (nullable = true)\n",
            " |-- remetente: struct (nullable = true)\n",
            " |    |-- nome: string (nullable = true)\n",
            " |    |-- banco: string (nullable = true)\n",
            " |    |-- tipo: string (nullable = true)\n",
            " |-- destinatario: struct (nullable = true)\n",
            " |    |-- nome: string (nullable = true)\n",
            " |    |-- banco: string (nullable = true)\n",
            " |    |-- tipo: string (nullable = true)\n",
            " |-- transaction_date: timestamp (nullable = true)\n",
            " |-- chave_pix: string (nullable = true)\n",
            " |-- categoria: string (nullable = true)\n",
            " |-- fraude: integer (nullable = true)\n",
            "\n",
            "+------------+------------------+--------------------+--------------------+-------------------+---------+-------------+------+\n",
            "|id_transacao|             valor|           remetente|        destinatario|   transaction_date|chave_pix|    categoria|fraude|\n",
            "+------------+------------------+--------------------+--------------------+-------------------+---------+-------------+------+\n",
            "|        1000|            588.08|{Jonathan Gonsalv...|{Calebe Melo, Cai...|2021-07-16 05:00:55|aleatoria|       outros|     0|\n",
            "|        1001|           80682.5|{Jonathan Gonsalv...|{Davi Lucas Perei...|2022-04-20 12:34:01|  celular|transferencia|     1|\n",
            "|        1002|             549.9|{Jonathan Gonsalv...|{Sabrina Castro, ...|2022-07-10 16:51:34|      cpf|        lazer|     0|\n",
            "|        1003|             90.83|{Jonathan Gonsalv...|{Francisco da Con...|2022-10-20 10:57:36|aleatoria|   transporte|     0|\n",
            "|        1004|13272.619999999999|{Jonathan Gonsalv...|{Isabelly Ferreir...|2021-04-06 20:26:51|    email|transferencia|     0|\n",
            "|        1005|           9347.58|{Jonathan Gonsalv...|{Srta. Maria da C...|2022-07-24 15:22:27|aleatoria|        saude|     0|\n",
            "|        1006|           7836.76|{Jonathan Gonsalv...|{Catarina Duarte,...|2022-10-05 19:20:24|      cpf|    presentes|     0|\n",
            "|        1007|           3883.62|{Jonathan Gonsalv...|{Vitor Correia, X...|2021-04-24 17:36:34|      cpf|    vestuario|     0|\n",
            "|        1008|               4.0|{Jonathan Gonsalv...|{Theo Novaes, C6,...|2021-11-16 21:46:47|aleatoria|        saude|     0|\n",
            "|        1009|              24.3|{Jonathan Gonsalv...|{Isabel Caldeira,...|2021-07-26 02:08:49|      cpf|transferencia|     0|\n",
            "|        1010|           87555.3|{Jonathan Gonsalv...|{Sr. Henrique Car...|2022-03-14 15:34:45|aleatoria|transferencia|     1|\n",
            "|        1011|          21345.91|{Jonathan Gonsalv...|{Felipe Cavalcant...|2021-10-31 04:31:51|      cpf|transferencia|     1|\n",
            "|        1012|          73605.85|{Jonathan Gonsalv...|{Dr. Davi da Luz,...|2021-04-30 19:19:56|  celular|transferencia|     1|\n",
            "|        1013|             93.53|{Jonathan Gonsalv...|{Stephany Cardoso...|2023-01-13 13:39:57|      cpf|  alimentacao|     0|\n",
            "|        1014|            564.11|{Jonathan Gonsalv...|{Sra. Julia Arauj...|2022-05-27 23:06:08|aleatoria|    vestuario|     0|\n",
            "|        1015|              3.59|{Jonathan Gonsalv...|{Carolina Farias,...|2021-10-06 21:19:58|    email|        saude|     0|\n",
            "|        1016|          19164.89|{Jonathan Gonsalv...|{Isabelly da Cost...|2022-03-06 17:59:43|    email|  alimentacao|     0|\n",
            "|        1017|             68.45|{Jonathan Gonsalv...|{Joao Miguel Silv...|2022-04-01 18:17:40|aleatoria|    vestuario|     0|\n",
            "|        1018|            941.25|{Jonathan Gonsalv...|{Matheus Moura, C...|2022-05-23 00:28:13|  celular|    vestuario|     0|\n",
            "|        1019|27009.910000000003|{Jonathan Gonsalv...|{Gabrielly Goncal...|2021-08-04 23:22:37|    email|transferencia|     1|\n",
            "+------------+------------------+--------------------+--------------------+-------------------+---------+-------------+------+\n",
            "only showing top 20 rows\n",
            "\n"
          ]
        }
      ]
    },
    {
      "cell_type": "code",
      "source": [
        "df_flat = df.withColumns({\n",
        "        'destinatario_nome': col('destinatario').getField('nome'),\n",
        "        'destinatario_banco': col('destinatario').getField('banco'),\n",
        "        'destinatario_tipo': col('destinatario').getField('tipo'),\n",
        "        'remetente_nome': col('remetente').getField('nome'),\n",
        "        'remetente_banco': col('remetente').getField('banco'),\n",
        "        'remetente_tipo': col('remetente').getField('tipo')\n",
        "    }).drop('destinatario', 'remetente')"
      ],
      "metadata": {
        "id": "439k9S194wkH"
      },
      "execution_count": 9,
      "outputs": []
    },
    {
      "cell_type": "code",
      "source": [
        "df_flat.printSchema(),\n",
        "df_flat.show(5)"
      ],
      "metadata": {
        "colab": {
          "base_uri": "https://localhost:8080/"
        },
        "id": "qIxhwo_-5JRr",
        "outputId": "85156d4f-e814-43b2-bf55-3cda36d86a10"
      },
      "execution_count": 10,
      "outputs": [
        {
          "output_type": "stream",
          "name": "stdout",
          "text": [
            "root\n",
            " |-- id_transacao: integer (nullable = true)\n",
            " |-- valor: double (nullable = true)\n",
            " |-- transaction_date: timestamp (nullable = true)\n",
            " |-- chave_pix: string (nullable = true)\n",
            " |-- categoria: string (nullable = true)\n",
            " |-- fraude: integer (nullable = true)\n",
            " |-- destinatario_nome: string (nullable = true)\n",
            " |-- destinatario_banco: string (nullable = true)\n",
            " |-- destinatario_tipo: string (nullable = true)\n",
            " |-- remetente_nome: string (nullable = true)\n",
            " |-- remetente_banco: string (nullable = true)\n",
            " |-- remetente_tipo: string (nullable = true)\n",
            "\n",
            "+------------+------------------+-------------------+---------+-------------+------+--------------------+------------------+-----------------+------------------+---------------+--------------+\n",
            "|id_transacao|             valor|   transaction_date|chave_pix|    categoria|fraude|   destinatario_nome|destinatario_banco|destinatario_tipo|    remetente_nome|remetente_banco|remetente_tipo|\n",
            "+------------+------------------+-------------------+---------+-------------+------+--------------------+------------------+-----------------+------------------+---------------+--------------+\n",
            "|        1000|            588.08|2021-07-16 05:00:55|aleatoria|       outros|     0|         Calebe Melo|             Caixa|               PF|Jonathan Gonsalves|            BTG|            PF|\n",
            "|        1001|           80682.5|2022-04-20 12:34:01|  celular|transferencia|     1|  Davi Lucas Pereira|             Caixa|               PJ|Jonathan Gonsalves|            BTG|            PF|\n",
            "|        1002|             549.9|2022-07-10 16:51:34|      cpf|        lazer|     0|      Sabrina Castro|            Nubank|               PF|Jonathan Gonsalves|            BTG|            PF|\n",
            "|        1003|             90.83|2022-10-20 10:57:36|aleatoria|   transporte|     0|Francisco da Conc...|            Nubank|               PJ|Jonathan Gonsalves|            BTG|            PF|\n",
            "|        1004|13272.619999999999|2021-04-06 20:26:51|    email|transferencia|     0|   Isabelly Ferreira|               BTG|               PJ|Jonathan Gonsalves|            BTG|            PF|\n",
            "+------------+------------------+-------------------+---------+-------------+------+--------------------+------------------+-----------------+------------------+---------------+--------------+\n",
            "only showing top 5 rows\n",
            "\n"
          ]
        }
      ]
    },
    {
      "cell_type": "code",
      "source": [
        "df_flat.describe().show()"
      ],
      "metadata": {
        "colab": {
          "base_uri": "https://localhost:8080/"
        },
        "id": "_sMaHjSU0QNq",
        "outputId": "1ae2b0c6-f56e-491f-ac82-f9283e945363"
      },
      "execution_count": 11,
      "outputs": [
        {
          "output_type": "stream",
          "name": "stdout",
          "text": [
            "+-------+-----------------+------------------+---------+-----------+------------------+-----------------+------------------+-----------------+------------------+---------------+--------------+\n",
            "|summary|     id_transacao|             valor|chave_pix|  categoria|            fraude|destinatario_nome|destinatario_banco|destinatario_tipo|    remetente_nome|remetente_banco|remetente_tipo|\n",
            "+-------+-----------------+------------------+---------+-----------+------------------+-----------------+------------------+-----------------+------------------+---------------+--------------+\n",
            "|  count|           100000|            100000|   100000|     100000|            100000|           100000|            100000|           100000|            100000|         100000|        100000|\n",
            "|   mean|          50999.5|10303.358732200059|     NULL|       NULL|           0.15367|             NULL|              NULL|             NULL|              NULL|           NULL|          NULL|\n",
            "| stddev|28867.65779668774| 20874.99768875586|     NULL|       NULL|0.3606339302787737|             NULL|              NULL|             NULL|              NULL|           NULL|          NULL|\n",
            "|    min|             1000|               0.0|aleatoria|alimentacao|                 0|   Agatha Almeida|               BTG|               PF|Jonathan Gonsalves|            BTG|            PF|\n",
            "|    max|           100999|          89996.33|    email|  vestuario|                 1|   Yuri das Neves|                XP|               PJ|Jonathan Gonsalves|            BTG|            PF|\n",
            "+-------+-----------------+------------------+---------+-----------+------------------+-----------------+------------------+-----------------+------------------+---------------+--------------+\n",
            "\n"
          ]
        }
      ]
    },
    {
      "cell_type": "code",
      "source": [
        "value_list = df_flat.select(\"valor\").rdd.flatMap(lambda x: x).collect()\n",
        "\n",
        "\n",
        "plt.figure(figsize=(15, 15))\n",
        "plt.subplot(2,2,1)\n",
        "sns.histplot(value_list)\n",
        "\n",
        "plt.subplot(2,2,2)\n",
        "value_list= [val for val in value_list if val <= 10000]\n",
        "sns.histplot(value_list)\n",
        "\n",
        "plt.subplot(2,2,3)\n",
        "value_list= [val for val in value_list if val <= 1000]\n",
        "sns.histplot(value_list)\n",
        "\n",
        "plt.subplot(2,2,4)\n",
        "value_list= [val for val in value_list if val <= 100]\n",
        "sns.histplot(value_list)\n",
        "\n",
        "plt.show()"
      ],
      "metadata": {
        "colab": {
          "base_uri": "https://localhost:8080/",
          "height": 617
        },
        "id": "3e59Gx9054XX",
        "outputId": "3403b4d5-00ac-457d-ba6a-b9ed56db4e70"
      },
      "execution_count": 12,
      "outputs": [
        {
          "output_type": "display_data",
          "data": {
            "text/plain": [
              "<Figure size 1500x1500 with 4 Axes>"
            ],
            "image/png": "[encoded data removed]"
          },
          "metadata": {}
        }
      ]
    },
    {
      "cell_type": "markdown",
      "source": [
        "Quality Analysis"
      ],
      "metadata": {
        "id": "QGypFq__1Yd2"
      }
    },
    {
      "cell_type": "code",
      "source": [
        "df_flat.show(5)"
      ],
      "metadata": {
        "colab": {
          "base_uri": "https://localhost:8080/"
        },
        "id": "_sSkQg5f2SZR",
        "outputId": "998f78b2-34ca-41a0-cbfb-85d6d7bf0278"
      },
      "execution_count": 13,
      "outputs": [
        {
          "output_type": "stream",
          "name": "stdout",
          "text": [
            "+------------+------------------+-------------------+---------+-------------+------+--------------------+------------------+-----------------+------------------+---------------+--------------+\n",
            "|id_transacao|             valor|   transaction_date|chave_pix|    categoria|fraude|   destinatario_nome|destinatario_banco|destinatario_tipo|    remetente_nome|remetente_banco|remetente_tipo|\n",
            "+------------+------------------+-------------------+---------+-------------+------+--------------------+------------------+-----------------+------------------+---------------+--------------+\n",
            "|        1000|            588.08|2021-07-16 05:00:55|aleatoria|       outros|     0|         Calebe Melo|             Caixa|               PF|Jonathan Gonsalves|            BTG|            PF|\n",
            "|        1001|           80682.5|2022-04-20 12:34:01|  celular|transferencia|     1|  Davi Lucas Pereira|             Caixa|               PJ|Jonathan Gonsalves|            BTG|            PF|\n",
            "|        1002|             549.9|2022-07-10 16:51:34|      cpf|        lazer|     0|      Sabrina Castro|            Nubank|               PF|Jonathan Gonsalves|            BTG|            PF|\n",
            "|        1003|             90.83|2022-10-20 10:57:36|aleatoria|   transporte|     0|Francisco da Conc...|            Nubank|               PJ|Jonathan Gonsalves|            BTG|            PF|\n",
            "|        1004|13272.619999999999|2021-04-06 20:26:51|    email|transferencia|     0|   Isabelly Ferreira|               BTG|               PJ|Jonathan Gonsalves|            BTG|            PF|\n",
            "+------------+------------------+-------------------+---------+-------------+------+--------------------+------------------+-----------------+------------------+---------------+--------------+\n",
            "only showing top 5 rows\n",
            "\n"
          ]
        }
      ]
    },
    {
      "cell_type": "code",
      "source": [
        "df_flat.select(\"categoria\").distinct().show()"
      ],
      "metadata": {
        "colab": {
          "base_uri": "https://localhost:8080/"
        },
        "id": "n_LEOuIO2yaY",
        "outputId": "bf904fbc-5a1a-4812-da17-81b52e0fb299"
      },
      "execution_count": 14,
      "outputs": [
        {
          "output_type": "stream",
          "name": "stdout",
          "text": [
            "+-------------+\n",
            "|    categoria|\n",
            "+-------------+\n",
            "|        saude|\n",
            "|        lazer|\n",
            "|    presentes|\n",
            "|transferencia|\n",
            "|    vestuario|\n",
            "|  alimentacao|\n",
            "|       outros|\n",
            "|   transporte|\n",
            "|     educacao|\n",
            "+-------------+\n",
            "\n"
          ]
        }
      ]
    },
    {
      "cell_type": "code",
      "source": [
        "df_flat.columns"
      ],
      "metadata": {
        "colab": {
          "base_uri": "https://localhost:8080/"
        },
        "id": "gArHDaXsAcrF",
        "outputId": "b5aa9603-c76a-4bb9-a025-8408a77a0d67"
      },
      "execution_count": 23,
      "outputs": [
        {
          "output_type": "execute_result",
          "data": {
            "text/plain": [
              "['id_transacao',\n",
              " 'valor',\n",
              " 'transaction_date',\n",
              " 'chave_pix',\n",
              " 'categoria',\n",
              " 'fraude',\n",
              " 'destinatario_nome',\n",
              " 'destinatario_banco',\n",
              " 'destinatario_tipo',\n",
              " 'remetente_nome',\n",
              " 'remetente_banco',\n",
              " 'remetente_tipo']"
            ]
          },
          "metadata": {},
          "execution_count": 23
        }
      ]
    },
    {
      "cell_type": "code",
      "source": [
        "analysisResult = (\n",
        "    AnalysisRunner(spark).onData(df_flat)\n",
        "    .addAnalyzer(Size())\n",
        "    .addAnalyzer(Completeness('transaction_date'))\n",
        "    .addAnalyzer(Completeness('valor'))\n",
        "    .addAnalyzer(Completeness('chave_pix'))\n",
        "    .addAnalyzer(Completeness('categoria'))\n",
        "    .addAnalyzer(Completeness('fraude'))\n",
        "    .addAnalyzer(Completeness('remetente_nome'))\n",
        "    .addAnalyzer(Completeness('remetente_banco'))\n",
        "    .addAnalyzer(Completeness('remetente_tipo'))\n",
        "    .addAnalyzer(Compliance('valor', 'valor>0'))\n",
        "    .addAnalyzer(Compliance('fraude', 'fraude==0 or fraude==1'))\n",
        "    .addAnalyzer(Compliance('chave_pix', 'chave_pix==\"aleatoria\" or chave_pix==\"celular\" or chave_pix==\"email\" or chave_pix==\"cpf\"'))\n",
        "    .addAnalyzer(Compliance('remetente_tipo', 'remetente_tipo==\"PF\" or remetente_tipo==\"PJ\"'))\n",
        "    .run()\n",
        ")"
      ],
      "metadata": {
        "id": "B8qtAhGH2KGr"
      },
      "execution_count": 24,
      "outputs": []
    },
    {
      "cell_type": "code",
      "source": [
        "analysisResult_df = AnalyzerContext.successMetricsAsDataFrame(spark, analysisResult)\n",
        "analysisResult_df.show()"
      ],
      "metadata": {
        "colab": {
          "base_uri": "https://localhost:8080/"
        },
        "id": "Bx5Ejn1U2MBs",
        "outputId": "3f8a2975-5cbe-412b-f8a6-8b8c4b9397c0"
      },
      "execution_count": 25,
      "outputs": [
        {
          "output_type": "stream",
          "name": "stdout",
          "text": [
            "+-------+----------------+------------+--------+\n",
            "| entity|        instance|        name|   value|\n",
            "+-------+----------------+------------+--------+\n",
            "| Column|  remetente_tipo|  Compliance|     1.0|\n",
            "| Column|          fraude|  Compliance|     1.0|\n",
            "| Column|       chave_pix|Completeness|     1.0|\n",
            "| Column|  remetente_nome|Completeness|     1.0|\n",
            "| Column|       chave_pix|  Compliance|     1.0|\n",
            "| Column|           valor|Completeness|     1.0|\n",
            "| Column|  remetente_tipo|Completeness|     1.0|\n",
            "|Dataset|               *|        Size|100000.0|\n",
            "| Column| remetente_banco|Completeness|     1.0|\n",
            "| Column|          fraude|Completeness|     1.0|\n",
            "| Column|transaction_date|Completeness|     1.0|\n",
            "| Column|           valor|  Compliance| 0.99972|\n",
            "| Column|       categoria|Completeness|     1.0|\n",
            "+-------+----------------+------------+--------+\n",
            "\n"
          ]
        },
        {
          "output_type": "stream",
          "name": "stderr",
          "text": [
            "/usr/local/lib/python3.10/dist-packages/pyspark/sql/dataframe.py:147: UserWarning: DataFrame constructor is internal. Do not directly use it.\n",
            "  warnings.warn(\"DataFrame constructor is internal. Do not directly use it.\")\n"
          ]
        }
      ]
    },
    {
      "cell_type": "code",
      "source": [
        "print(df_flat.filter(col('valor') <= 0).count())\n",
        "df_flat.filter(col('valor') <= 0).show()"
      ],
      "metadata": {
        "colab": {
          "base_uri": "https://localhost:8080/"
        },
        "id": "Tjv04qGLAq3c",
        "outputId": "46bad260-a40f-411b-fa18-0b88bfd78bb3"
      },
      "execution_count": 32,
      "outputs": [
        {
          "output_type": "stream",
          "name": "stdout",
          "text": [
            "28\n",
            "+------------+-----+-------------------+---------+-------------+------+--------------------+------------------+-----------------+------------------+---------------+--------------+\n",
            "|id_transacao|valor|   transaction_date|chave_pix|    categoria|fraude|   destinatario_nome|destinatario_banco|destinatario_tipo|    remetente_nome|remetente_banco|remetente_tipo|\n",
            "+------------+-----+-------------------+---------+-------------+------+--------------------+------------------+-----------------+------------------+---------------+--------------+\n",
            "|        5662|  0.0|2021-12-21 17:33:59|    email|transferencia|     0|       Matheus Rocha|             Caixa|               PF|Jonathan Gonsalves|            BTG|            PF|\n",
            "|        6070|  0.0|2021-02-16 07:33:02|      cpf|   transporte|     0|      Barbara Araujo|          Bradesco|               PJ|Jonathan Gonsalves|            BTG|            PF|\n",
            "|        6117|  0.0|2021-09-29 17:08:45|      cpf|        saude|     0|      Ryan Goncalves|             Caixa|               PJ|Jonathan Gonsalves|            BTG|            PF|\n",
            "|        6553|  0.0|2021-04-28 02:49:32|aleatoria|       outros|     0|      Yasmin Pereira|            Nubank|               PJ|Jonathan Gonsalves|            BTG|            PF|\n",
            "|        8136|  0.0|2022-09-06 20:35:24|    email|  alimentacao|     0|          Lara Silva|                C6|               PF|Jonathan Gonsalves|            BTG|            PF|\n",
            "|       13687|  0.0|2022-11-29 17:30:23|aleatoria|  alimentacao|     0|    Miguel Fernandes|             Caixa|               PJ|Jonathan Gonsalves|            BTG|            PF|\n",
            "|       14395|  0.0|2022-10-17 11:37:20|  celular|  alimentacao|     0|    Leonardo Cardoso|          Bradesco|               PF|Jonathan Gonsalves|            BTG|            PF|\n",
            "|       16343|  0.0|2021-07-15 23:30:21|  celular|    presentes|     0|  Valentina Nogueira|          Bradesco|               PF|Jonathan Gonsalves|            BTG|            PF|\n",
            "|       16818|  0.0|2022-01-17 21:26:04|  celular|        saude|     0|      Maysa Teixeira|            Nubank|               PF|Jonathan Gonsalves|            BTG|            PF|\n",
            "|       17659|  0.0|2022-03-05 19:15:06|    email|        lazer|     0|Gustavo Henrique ...|             Caixa|               PF|Jonathan Gonsalves|            BTG|            PF|\n",
            "|       23439|  0.0|2021-12-07 09:44:49|      cpf|   transporte|     0|       Isabel Castro|             Caixa|               PJ|Jonathan Gonsalves|            BTG|            PF|\n",
            "|       30522|  0.0|2021-12-07 14:44:29|  celular|        saude|     0|      Andre Carvalho|            Nubank|               PF|Jonathan Gonsalves|            BTG|            PF|\n",
            "|       36300|  0.0|2021-10-26 21:03:38|  celular|   transporte|     0|       Arthur Vieira|          Bradesco|               PJ|Jonathan Gonsalves|            BTG|            PF|\n",
            "|       40323|  0.0|2022-01-05 04:39:22|      cpf|       outros|     0|        Miguel Rocha|             Caixa|               PF|Jonathan Gonsalves|            BTG|            PF|\n",
            "|       41732|  0.0|2022-11-01 22:53:45|aleatoria|    vestuario|     0|    Dr. Juan Barbosa|                XP|               PJ|Jonathan Gonsalves|            BTG|            PF|\n",
            "|       42905|  0.0|2021-05-13 05:54:27|aleatoria|   transporte|     0|        Noah Costela|                C6|               PJ|Jonathan Gonsalves|            BTG|            PF|\n",
            "|       44929|  0.0|2022-08-16 02:44:53|  celular|     educacao|     0|    Sr. Rafael Souza|            Nubank|               PF|Jonathan Gonsalves|            BTG|            PF|\n",
            "|       47330|  0.0|2021-03-10 14:51:50|    email|       outros|     0|        Caua da Mota|              Itau|               PF|Jonathan Gonsalves|            BTG|            PF|\n",
            "|       50848|  0.0|2021-03-22 01:19:57|  celular|    presentes|     0|Luiz Miguel Silveira|            Nubank|               PF|Jonathan Gonsalves|            BTG|            PF|\n",
            "|       51895|  0.0|2021-03-08 10:22:12|  celular|     educacao|     0|     Beatriz Pereira|          Bradesco|               PJ|Jonathan Gonsalves|            BTG|            PF|\n",
            "+------------+-----+-------------------+---------+-------------+------+--------------------+------------------+-----------------+------------------+---------------+--------------+\n",
            "only showing top 20 rows\n",
            "\n"
          ]
        }
      ]
    },
    {
      "cell_type": "code",
      "source": [
        "df_flat = df_flat.filter(col('valor') > 0)"
      ],
      "metadata": {
        "id": "lRsdd0IZBXGs"
      },
      "execution_count": 33,
      "outputs": []
    },
    {
      "cell_type": "markdown",
      "source": [
        "## Feature Engineering"
      ],
      "metadata": {
        "id": "r9-Vr6fR0uL7"
      }
    },
    {
      "cell_type": "code",
      "source": [
        "df_cat = df_flat.withColumn(\n",
        "    'value_range',\n",
        "    when(col('valor') <= 10, '10-')\n",
        "    .when((col('valor') > 10) & (col('valor') <= 100), '11-100')\n",
        "    .when((col('valor') > 101) & (col('valor') <= 1000), '101-1000')\n",
        "    .when((col('valor') > 1000) & (col('valor') <= 10000), '1001-10000')\n",
        "    .otherwise('10000+')\n",
        ")\n",
        "df_cat.show()"
      ],
      "metadata": {
        "colab": {
          "base_uri": "https://localhost:8080/"
        },
        "id": "jf_Zbj66C-E9",
        "outputId": "555d5440-1d4c-421c-a97c-290413e86760"
      },
      "execution_count": 34,
      "outputs": [
        {
          "output_type": "stream",
          "name": "stdout",
          "text": [
            "+------------+------------------+-------------------+---------+-------------+------+--------------------+------------------+-----------------+------------------+---------------+--------------+-----------+\n",
            "|id_transacao|             valor|   transaction_date|chave_pix|    categoria|fraude|   destinatario_nome|destinatario_banco|destinatario_tipo|    remetente_nome|remetente_banco|remetente_tipo|value_range|\n",
            "+------------+------------------+-------------------+---------+-------------+------+--------------------+------------------+-----------------+------------------+---------------+--------------+-----------+\n",
            "|        1000|            588.08|2021-07-16 05:00:55|aleatoria|       outros|     0|         Calebe Melo|             Caixa|               PF|Jonathan Gonsalves|            BTG|            PF|   101-1000|\n",
            "|        1001|           80682.5|2022-04-20 12:34:01|  celular|transferencia|     1|  Davi Lucas Pereira|             Caixa|               PJ|Jonathan Gonsalves|            BTG|            PF|     10000+|\n",
            "|        1002|             549.9|2022-07-10 16:51:34|      cpf|        lazer|     0|      Sabrina Castro|            Nubank|               PF|Jonathan Gonsalves|            BTG|            PF|   101-1000|\n",
            "|        1003|             90.83|2022-10-20 10:57:36|aleatoria|   transporte|     0|Francisco da Conc...|            Nubank|               PJ|Jonathan Gonsalves|            BTG|            PF|     11-100|\n",
            "|        1004|13272.619999999999|2021-04-06 20:26:51|    email|transferencia|     0|   Isabelly Ferreira|               BTG|               PJ|Jonathan Gonsalves|            BTG|            PF|     10000+|\n",
            "|        1005|           9347.58|2022-07-24 15:22:27|aleatoria|        saude|     0|Srta. Maria da Cunha|              Itau|               PJ|Jonathan Gonsalves|            BTG|            PF| 1001-10000|\n",
            "|        1006|           7836.76|2022-10-05 19:20:24|      cpf|    presentes|     0|     Catarina Duarte|                C6|               PF|Jonathan Gonsalves|            BTG|            PF| 1001-10000|\n",
            "|        1007|           3883.62|2021-04-24 17:36:34|      cpf|    vestuario|     0|       Vitor Correia|                XP|               PJ|Jonathan Gonsalves|            BTG|            PF| 1001-10000|\n",
            "|        1008|               4.0|2021-11-16 21:46:47|aleatoria|        saude|     0|         Theo Novaes|                C6|               PJ|Jonathan Gonsalves|            BTG|            PF|        10-|\n",
            "|        1009|              24.3|2021-07-26 02:08:49|      cpf|transferencia|     0|     Isabel Caldeira|                XP|               PJ|Jonathan Gonsalves|            BTG|            PF|     11-100|\n",
            "|        1010|           87555.3|2022-03-14 15:34:45|aleatoria|transferencia|     1|Sr. Henrique Cardoso|            Nubank|               PF|Jonathan Gonsalves|            BTG|            PF|     10000+|\n",
            "|        1011|          21345.91|2021-10-31 04:31:51|      cpf|transferencia|     1|   Felipe Cavalcanti|            Nubank|               PJ|Jonathan Gonsalves|            BTG|            PF|     10000+|\n",
            "|        1012|          73605.85|2021-04-30 19:19:56|  celular|transferencia|     1|     Dr. Davi da Luz|          Bradesco|               PJ|Jonathan Gonsalves|            BTG|            PF|     10000+|\n",
            "|        1013|             93.53|2023-01-13 13:39:57|      cpf|  alimentacao|     0|    Stephany Cardoso|                C6|               PJ|Jonathan Gonsalves|            BTG|            PF|     11-100|\n",
            "|        1014|            564.11|2022-05-27 23:06:08|aleatoria|    vestuario|     0|   Sra. Julia Araujo|              Itau|               PJ|Jonathan Gonsalves|            BTG|            PF|   101-1000|\n",
            "|        1015|              3.59|2021-10-06 21:19:58|    email|        saude|     0|     Carolina Farias|            Nubank|               PJ|Jonathan Gonsalves|            BTG|            PF|        10-|\n",
            "|        1016|          19164.89|2022-03-06 17:59:43|    email|  alimentacao|     0|   Isabelly da Costa|            Nubank|               PJ|Jonathan Gonsalves|            BTG|            PF|     10000+|\n",
            "|        1017|             68.45|2022-04-01 18:17:40|aleatoria|    vestuario|     0|Joao Miguel Silveira|                C6|               PJ|Jonathan Gonsalves|            BTG|            PF|     11-100|\n",
            "|        1018|            941.25|2022-05-23 00:28:13|  celular|    vestuario|     0|       Matheus Moura|                C6|               PF|Jonathan Gonsalves|            BTG|            PF|   101-1000|\n",
            "|        1019|27009.910000000003|2021-08-04 23:22:37|    email|transferencia|     1| Gabrielly Goncalves|              Itau|               PJ|Jonathan Gonsalves|            BTG|            PF|     10000+|\n",
            "+------------+------------------+-------------------+---------+-------------+------+--------------------+------------------+-----------------+------------------+---------------+--------------+-----------+\n",
            "only showing top 20 rows\n",
            "\n"
          ]
        }
      ]
    },
    {
      "cell_type": "code",
      "source": [
        "df_cat = df_cat.withColumn('hour', hour(col('transaction_date')))\n",
        "df_cat.show(5)"
      ],
      "metadata": {
        "colab": {
          "base_uri": "https://localhost:8080/"
        },
        "id": "ye-qpPLFDXRt",
        "outputId": "ff471470-1f51-4c4d-d727-fc41512d31cb"
      },
      "execution_count": 35,
      "outputs": [
        {
          "output_type": "stream",
          "name": "stdout",
          "text": [
            "+------------+------------------+-------------------+---------+-------------+------+--------------------+------------------+-----------------+------------------+---------------+--------------+-----------+----+\n",
            "|id_transacao|             valor|   transaction_date|chave_pix|    categoria|fraude|   destinatario_nome|destinatario_banco|destinatario_tipo|    remetente_nome|remetente_banco|remetente_tipo|value_range|hour|\n",
            "+------------+------------------+-------------------+---------+-------------+------+--------------------+------------------+-----------------+------------------+---------------+--------------+-----------+----+\n",
            "|        1000|            588.08|2021-07-16 05:00:55|aleatoria|       outros|     0|         Calebe Melo|             Caixa|               PF|Jonathan Gonsalves|            BTG|            PF|   101-1000|   5|\n",
            "|        1001|           80682.5|2022-04-20 12:34:01|  celular|transferencia|     1|  Davi Lucas Pereira|             Caixa|               PJ|Jonathan Gonsalves|            BTG|            PF|     10000+|  12|\n",
            "|        1002|             549.9|2022-07-10 16:51:34|      cpf|        lazer|     0|      Sabrina Castro|            Nubank|               PF|Jonathan Gonsalves|            BTG|            PF|   101-1000|  16|\n",
            "|        1003|             90.83|2022-10-20 10:57:36|aleatoria|   transporte|     0|Francisco da Conc...|            Nubank|               PJ|Jonathan Gonsalves|            BTG|            PF|     11-100|  10|\n",
            "|        1004|13272.619999999999|2021-04-06 20:26:51|    email|transferencia|     0|   Isabelly Ferreira|               BTG|               PJ|Jonathan Gonsalves|            BTG|            PF|     10000+|  20|\n",
            "+------------+------------------+-------------------+---------+-------------+------+--------------------+------------------+-----------------+------------------+---------------+--------------+-----------+----+\n",
            "only showing top 5 rows\n",
            "\n"
          ]
        }
      ]
    },
    {
      "cell_type": "code",
      "source": [
        "df_cat = df_cat.withColumn(\n",
        "    'time_range',\n",
        "    when((col('hour') < 5) | (col('hour') > 22), 'late-night')\n",
        "    .when((col('hour') >= 5) & (col('hour') < 8), 'dawn')\n",
        "    .when((col('hour') >= 8) & (col('hour') <= 18), 'work-hour')\n",
        "    .otherwise('night')\n",
        ")\n",
        "df_cat.show()"
      ],
      "metadata": {
        "colab": {
          "base_uri": "https://localhost:8080/"
        },
        "id": "Heop0aN7DQ1n",
        "outputId": "06d1701c-d496-4831-a0c6-a14c3d129e3d"
      },
      "execution_count": 36,
      "outputs": [
        {
          "output_type": "stream",
          "name": "stdout",
          "text": [
            "+------------+------------------+-------------------+---------+-------------+------+--------------------+------------------+-----------------+------------------+---------------+--------------+-----------+----+----------+\n",
            "|id_transacao|             valor|   transaction_date|chave_pix|    categoria|fraude|   destinatario_nome|destinatario_banco|destinatario_tipo|    remetente_nome|remetente_banco|remetente_tipo|value_range|hour|time_range|\n",
            "+------------+------------------+-------------------+---------+-------------+------+--------------------+------------------+-----------------+------------------+---------------+--------------+-----------+----+----------+\n",
            "|        1000|            588.08|2021-07-16 05:00:55|aleatoria|       outros|     0|         Calebe Melo|             Caixa|               PF|Jonathan Gonsalves|            BTG|            PF|   101-1000|   5|      dawn|\n",
            "|        1001|           80682.5|2022-04-20 12:34:01|  celular|transferencia|     1|  Davi Lucas Pereira|             Caixa|               PJ|Jonathan Gonsalves|            BTG|            PF|     10000+|  12| work-hour|\n",
            "|        1002|             549.9|2022-07-10 16:51:34|      cpf|        lazer|     0|      Sabrina Castro|            Nubank|               PF|Jonathan Gonsalves|            BTG|            PF|   101-1000|  16| work-hour|\n",
            "|        1003|             90.83|2022-10-20 10:57:36|aleatoria|   transporte|     0|Francisco da Conc...|            Nubank|               PJ|Jonathan Gonsalves|            BTG|            PF|     11-100|  10| work-hour|\n",
            "|        1004|13272.619999999999|2021-04-06 20:26:51|    email|transferencia|     0|   Isabelly Ferreira|               BTG|               PJ|Jonathan Gonsalves|            BTG|            PF|     10000+|  20|     night|\n",
            "|        1005|           9347.58|2022-07-24 15:22:27|aleatoria|        saude|     0|Srta. Maria da Cunha|              Itau|               PJ|Jonathan Gonsalves|            BTG|            PF| 1001-10000|  15| work-hour|\n",
            "|        1006|           7836.76|2022-10-05 19:20:24|      cpf|    presentes|     0|     Catarina Duarte|                C6|               PF|Jonathan Gonsalves|            BTG|            PF| 1001-10000|  19|     night|\n",
            "|        1007|           3883.62|2021-04-24 17:36:34|      cpf|    vestuario|     0|       Vitor Correia|                XP|               PJ|Jonathan Gonsalves|            BTG|            PF| 1001-10000|  17| work-hour|\n",
            "|        1008|               4.0|2021-11-16 21:46:47|aleatoria|        saude|     0|         Theo Novaes|                C6|               PJ|Jonathan Gonsalves|            BTG|            PF|        10-|  21|     night|\n",
            "|        1009|              24.3|2021-07-26 02:08:49|      cpf|transferencia|     0|     Isabel Caldeira|                XP|               PJ|Jonathan Gonsalves|            BTG|            PF|     11-100|   2|late-night|\n",
            "|        1010|           87555.3|2022-03-14 15:34:45|aleatoria|transferencia|     1|Sr. Henrique Cardoso|            Nubank|               PF|Jonathan Gonsalves|            BTG|            PF|     10000+|  15| work-hour|\n",
            "|        1011|          21345.91|2021-10-31 04:31:51|      cpf|transferencia|     1|   Felipe Cavalcanti|            Nubank|               PJ|Jonathan Gonsalves|            BTG|            PF|     10000+|   4|late-night|\n",
            "|        1012|          73605.85|2021-04-30 19:19:56|  celular|transferencia|     1|     Dr. Davi da Luz|          Bradesco|               PJ|Jonathan Gonsalves|            BTG|            PF|     10000+|  19|     night|\n",
            "|        1013|             93.53|2023-01-13 13:39:57|      cpf|  alimentacao|     0|    Stephany Cardoso|                C6|               PJ|Jonathan Gonsalves|            BTG|            PF|     11-100|  13| work-hour|\n",
            "|        1014|            564.11|2022-05-27 23:06:08|aleatoria|    vestuario|     0|   Sra. Julia Araujo|              Itau|               PJ|Jonathan Gonsalves|            BTG|            PF|   101-1000|  23|late-night|\n",
            "|        1015|              3.59|2021-10-06 21:19:58|    email|        saude|     0|     Carolina Farias|            Nubank|               PJ|Jonathan Gonsalves|            BTG|            PF|        10-|  21|     night|\n",
            "|        1016|          19164.89|2022-03-06 17:59:43|    email|  alimentacao|     0|   Isabelly da Costa|            Nubank|               PJ|Jonathan Gonsalves|            BTG|            PF|     10000+|  17| work-hour|\n",
            "|        1017|             68.45|2022-04-01 18:17:40|aleatoria|    vestuario|     0|Joao Miguel Silveira|                C6|               PJ|Jonathan Gonsalves|            BTG|            PF|     11-100|  18| work-hour|\n",
            "|        1018|            941.25|2022-05-23 00:28:13|  celular|    vestuario|     0|       Matheus Moura|                C6|               PF|Jonathan Gonsalves|            BTG|            PF|   101-1000|   0|late-night|\n",
            "|        1019|27009.910000000003|2021-08-04 23:22:37|    email|transferencia|     1| Gabrielly Goncalves|              Itau|               PJ|Jonathan Gonsalves|            BTG|            PF|     10000+|  23|late-night|\n",
            "+------------+------------------+-------------------+---------+-------------+------+--------------------+------------------+-----------------+------------------+---------------+--------------+-----------+----+----------+\n",
            "only showing top 20 rows\n",
            "\n"
          ]
        }
      ]
    },
    {
      "cell_type": "code",
      "source": [
        "df_cat = df_cat.withColumn('day_of_week', dayofweek(col('transaction_date')))\n",
        "df_cat.show()"
      ],
      "metadata": {
        "colab": {
          "base_uri": "https://localhost:8080/"
        },
        "id": "KXTWdcAaIFlo",
        "outputId": "7cb122d2-6106-40da-d224-c1ceac1e6f2d"
      },
      "execution_count": 37,
      "outputs": [
        {
          "output_type": "stream",
          "name": "stdout",
          "text": [
            "+------------+------------------+-------------------+---------+-------------+------+--------------------+------------------+-----------------+------------------+---------------+--------------+-----------+----+----------+-----------+\n",
            "|id_transacao|             valor|   transaction_date|chave_pix|    categoria|fraude|   destinatario_nome|destinatario_banco|destinatario_tipo|    remetente_nome|remetente_banco|remetente_tipo|value_range|hour|time_range|day_of_week|\n",
            "+------------+------------------+-------------------+---------+-------------+------+--------------------+------------------+-----------------+------------------+---------------+--------------+-----------+----+----------+-----------+\n",
            "|        1000|            588.08|2021-07-16 05:00:55|aleatoria|       outros|     0|         Calebe Melo|             Caixa|               PF|Jonathan Gonsalves|            BTG|            PF|   101-1000|   5|      dawn|          6|\n",
            "|        1001|           80682.5|2022-04-20 12:34:01|  celular|transferencia|     1|  Davi Lucas Pereira|             Caixa|               PJ|Jonathan Gonsalves|            BTG|            PF|     10000+|  12| work-hour|          4|\n",
            "|        1002|             549.9|2022-07-10 16:51:34|      cpf|        lazer|     0|      Sabrina Castro|            Nubank|               PF|Jonathan Gonsalves|            BTG|            PF|   101-1000|  16| work-hour|          1|\n",
            "|        1003|             90.83|2022-10-20 10:57:36|aleatoria|   transporte|     0|Francisco da Conc...|            Nubank|               PJ|Jonathan Gonsalves|            BTG|            PF|     11-100|  10| work-hour|          5|\n",
            "|        1004|13272.619999999999|2021-04-06 20:26:51|    email|transferencia|     0|   Isabelly Ferreira|               BTG|               PJ|Jonathan Gonsalves|            BTG|            PF|     10000+|  20|     night|          3|\n",
            "|        1005|           9347.58|2022-07-24 15:22:27|aleatoria|        saude|     0|Srta. Maria da Cunha|              Itau|               PJ|Jonathan Gonsalves|            BTG|            PF| 1001-10000|  15| work-hour|          1|\n",
            "|        1006|           7836.76|2022-10-05 19:20:24|      cpf|    presentes|     0|     Catarina Duarte|                C6|               PF|Jonathan Gonsalves|            BTG|            PF| 1001-10000|  19|     night|          4|\n",
            "|        1007|           3883.62|2021-04-24 17:36:34|      cpf|    vestuario|     0|       Vitor Correia|                XP|               PJ|Jonathan Gonsalves|            BTG|            PF| 1001-10000|  17| work-hour|          7|\n",
            "|        1008|               4.0|2021-11-16 21:46:47|aleatoria|        saude|     0|         Theo Novaes|                C6|               PJ|Jonathan Gonsalves|            BTG|            PF|        10-|  21|     night|          3|\n",
            "|        1009|              24.3|2021-07-26 02:08:49|      cpf|transferencia|     0|     Isabel Caldeira|                XP|               PJ|Jonathan Gonsalves|            BTG|            PF|     11-100|   2|late-night|          2|\n",
            "|        1010|           87555.3|2022-03-14 15:34:45|aleatoria|transferencia|     1|Sr. Henrique Cardoso|            Nubank|               PF|Jonathan Gonsalves|            BTG|            PF|     10000+|  15| work-hour|          2|\n",
            "|        1011|          21345.91|2021-10-31 04:31:51|      cpf|transferencia|     1|   Felipe Cavalcanti|            Nubank|               PJ|Jonathan Gonsalves|            BTG|            PF|     10000+|   4|late-night|          1|\n",
            "|        1012|          73605.85|2021-04-30 19:19:56|  celular|transferencia|     1|     Dr. Davi da Luz|          Bradesco|               PJ|Jonathan Gonsalves|            BTG|            PF|     10000+|  19|     night|          6|\n",
            "|        1013|             93.53|2023-01-13 13:39:57|      cpf|  alimentacao|     0|    Stephany Cardoso|                C6|               PJ|Jonathan Gonsalves|            BTG|            PF|     11-100|  13| work-hour|          6|\n",
            "|        1014|            564.11|2022-05-27 23:06:08|aleatoria|    vestuario|     0|   Sra. Julia Araujo|              Itau|               PJ|Jonathan Gonsalves|            BTG|            PF|   101-1000|  23|late-night|          6|\n",
            "|        1015|              3.59|2021-10-06 21:19:58|    email|        saude|     0|     Carolina Farias|            Nubank|               PJ|Jonathan Gonsalves|            BTG|            PF|        10-|  21|     night|          4|\n",
            "|        1016|          19164.89|2022-03-06 17:59:43|    email|  alimentacao|     0|   Isabelly da Costa|            Nubank|               PJ|Jonathan Gonsalves|            BTG|            PF|     10000+|  17| work-hour|          1|\n",
            "|        1017|             68.45|2022-04-01 18:17:40|aleatoria|    vestuario|     0|Joao Miguel Silveira|                C6|               PJ|Jonathan Gonsalves|            BTG|            PF|     11-100|  18| work-hour|          6|\n",
            "|        1018|            941.25|2022-05-23 00:28:13|  celular|    vestuario|     0|       Matheus Moura|                C6|               PF|Jonathan Gonsalves|            BTG|            PF|   101-1000|   0|late-night|          2|\n",
            "|        1019|27009.910000000003|2021-08-04 23:22:37|    email|transferencia|     1| Gabrielly Goncalves|              Itau|               PJ|Jonathan Gonsalves|            BTG|            PF|     10000+|  23|late-night|          4|\n",
            "+------------+------------------+-------------------+---------+-------------+------+--------------------+------------------+-----------------+------------------+---------------+--------------+-----------+----+----------+-----------+\n",
            "only showing top 20 rows\n",
            "\n"
          ]
        }
      ]
    },
    {
      "cell_type": "code",
      "source": [
        "df_cat = df_cat.withColumn('year_month', concat(year(col('transaction_date')), lit('-'), month(col('transaction_date'))))\n",
        "df_cat.show()"
      ],
      "metadata": {
        "colab": {
          "base_uri": "https://localhost:8080/"
        },
        "id": "C7iEELEaWehX",
        "outputId": "138998d0-7d4a-484e-97cf-404009bde530"
      },
      "execution_count": 38,
      "outputs": [
        {
          "output_type": "stream",
          "name": "stdout",
          "text": [
            "+------------+------------------+-------------------+---------+-------------+------+--------------------+------------------+-----------------+------------------+---------------+--------------+-----------+----+----------+-----------+----------+\n",
            "|id_transacao|             valor|   transaction_date|chave_pix|    categoria|fraude|   destinatario_nome|destinatario_banco|destinatario_tipo|    remetente_nome|remetente_banco|remetente_tipo|value_range|hour|time_range|day_of_week|year_month|\n",
            "+------------+------------------+-------------------+---------+-------------+------+--------------------+------------------+-----------------+------------------+---------------+--------------+-----------+----+----------+-----------+----------+\n",
            "|        1000|            588.08|2021-07-16 05:00:55|aleatoria|       outros|     0|         Calebe Melo|             Caixa|               PF|Jonathan Gonsalves|            BTG|            PF|   101-1000|   5|      dawn|          6|    2021-7|\n",
            "|        1001|           80682.5|2022-04-20 12:34:01|  celular|transferencia|     1|  Davi Lucas Pereira|             Caixa|               PJ|Jonathan Gonsalves|            BTG|            PF|     10000+|  12| work-hour|          4|    2022-4|\n",
            "|        1002|             549.9|2022-07-10 16:51:34|      cpf|        lazer|     0|      Sabrina Castro|            Nubank|               PF|Jonathan Gonsalves|            BTG|            PF|   101-1000|  16| work-hour|          1|    2022-7|\n",
            "|        1003|             90.83|2022-10-20 10:57:36|aleatoria|   transporte|     0|Francisco da Conc...|            Nubank|               PJ|Jonathan Gonsalves|            BTG|            PF|     11-100|  10| work-hour|          5|   2022-10|\n",
            "|        1004|13272.619999999999|2021-04-06 20:26:51|    email|transferencia|     0|   Isabelly Ferreira|               BTG|               PJ|Jonathan Gonsalves|            BTG|            PF|     10000+|  20|     night|          3|    2021-4|\n",
            "|        1005|           9347.58|2022-07-24 15:22:27|aleatoria|        saude|     0|Srta. Maria da Cunha|              Itau|               PJ|Jonathan Gonsalves|            BTG|            PF| 1001-10000|  15| work-hour|          1|    2022-7|\n",
            "|        1006|           7836.76|2022-10-05 19:20:24|      cpf|    presentes|     0|     Catarina Duarte|                C6|               PF|Jonathan Gonsalves|            BTG|            PF| 1001-10000|  19|     night|          4|   2022-10|\n",
            "|        1007|           3883.62|2021-04-24 17:36:34|      cpf|    vestuario|     0|       Vitor Correia|                XP|               PJ|Jonathan Gonsalves|            BTG|            PF| 1001-10000|  17| work-hour|          7|    2021-4|\n",
            "|        1008|               4.0|2021-11-16 21:46:47|aleatoria|        saude|     0|         Theo Novaes|                C6|               PJ|Jonathan Gonsalves|            BTG|            PF|        10-|  21|     night|          3|   2021-11|\n",
            "|        1009|              24.3|2021-07-26 02:08:49|      cpf|transferencia|     0|     Isabel Caldeira|                XP|               PJ|Jonathan Gonsalves|            BTG|            PF|     11-100|   2|late-night|          2|    2021-7|\n",
            "|        1010|           87555.3|2022-03-14 15:34:45|aleatoria|transferencia|     1|Sr. Henrique Cardoso|            Nubank|               PF|Jonathan Gonsalves|            BTG|            PF|     10000+|  15| work-hour|          2|    2022-3|\n",
            "|        1011|          21345.91|2021-10-31 04:31:51|      cpf|transferencia|     1|   Felipe Cavalcanti|            Nubank|               PJ|Jonathan Gonsalves|            BTG|            PF|     10000+|   4|late-night|          1|   2021-10|\n",
            "|        1012|          73605.85|2021-04-30 19:19:56|  celular|transferencia|     1|     Dr. Davi da Luz|          Bradesco|               PJ|Jonathan Gonsalves|            BTG|            PF|     10000+|  19|     night|          6|    2021-4|\n",
            "|        1013|             93.53|2023-01-13 13:39:57|      cpf|  alimentacao|     0|    Stephany Cardoso|                C6|               PJ|Jonathan Gonsalves|            BTG|            PF|     11-100|  13| work-hour|          6|    2023-1|\n",
            "|        1014|            564.11|2022-05-27 23:06:08|aleatoria|    vestuario|     0|   Sra. Julia Araujo|              Itau|               PJ|Jonathan Gonsalves|            BTG|            PF|   101-1000|  23|late-night|          6|    2022-5|\n",
            "|        1015|              3.59|2021-10-06 21:19:58|    email|        saude|     0|     Carolina Farias|            Nubank|               PJ|Jonathan Gonsalves|            BTG|            PF|        10-|  21|     night|          4|   2021-10|\n",
            "|        1016|          19164.89|2022-03-06 17:59:43|    email|  alimentacao|     0|   Isabelly da Costa|            Nubank|               PJ|Jonathan Gonsalves|            BTG|            PF|     10000+|  17| work-hour|          1|    2022-3|\n",
            "|        1017|             68.45|2022-04-01 18:17:40|aleatoria|    vestuario|     0|Joao Miguel Silveira|                C6|               PJ|Jonathan Gonsalves|            BTG|            PF|     11-100|  18| work-hour|          6|    2022-4|\n",
            "|        1018|            941.25|2022-05-23 00:28:13|  celular|    vestuario|     0|       Matheus Moura|                C6|               PF|Jonathan Gonsalves|            BTG|            PF|   101-1000|   0|late-night|          2|    2022-5|\n",
            "|        1019|27009.910000000003|2021-08-04 23:22:37|    email|transferencia|     1| Gabrielly Goncalves|              Itau|               PJ|Jonathan Gonsalves|            BTG|            PF|     10000+|  23|late-night|          4|    2021-8|\n",
            "+------------+------------------+-------------------+---------+-------------+------+--------------------+------------------+-----------------+------------------+---------------+--------------+-----------+----+----------+-----------+----------+\n",
            "only showing top 20 rows\n",
            "\n"
          ]
        }
      ]
    },
    {
      "cell_type": "code",
      "source": [
        "df_cat.select('remetente_nome', 'remetente_banco', 'remetente_tipo').distinct().show()"
      ],
      "metadata": {
        "colab": {
          "base_uri": "https://localhost:8080/"
        },
        "id": "z15wcs4jITDG",
        "outputId": "2d68745e-3046-45ec-8916-ade0a13cd135"
      },
      "execution_count": 39,
      "outputs": [
        {
          "output_type": "stream",
          "name": "stdout",
          "text": [
            "+------------------+---------------+--------------+\n",
            "|    remetente_nome|remetente_banco|remetente_tipo|\n",
            "+------------------+---------------+--------------+\n",
            "|Jonathan Gonsalves|            BTG|            PF|\n",
            "+------------------+---------------+--------------+\n",
            "\n"
          ]
        }
      ]
    },
    {
      "cell_type": "code",
      "source": [
        "df_cat = df_cat.drop('remetente_nome', 'remetente_banco', 'remetente_tipo')   # only one value"
      ],
      "metadata": {
        "id": "itk0xxRGK33M"
      },
      "execution_count": 40,
      "outputs": []
    },
    {
      "cell_type": "markdown",
      "source": [
        "## Exploratory Analisys"
      ],
      "metadata": {
        "id": "YkrWg_44Ln_s"
      }
    },
    {
      "cell_type": "markdown",
      "source": [
        "- **Most used PIX keys:** email\n"
      ],
      "metadata": {
        "id": "t7DnteBqLjeJ"
      }
    },
    {
      "cell_type": "code",
      "source": [
        "df_cat.select('chave_pix').groupby('chave_pix').count().show()"
      ],
      "metadata": {
        "colab": {
          "base_uri": "https://localhost:8080/"
        },
        "id": "4lnEtM49K8rj",
        "outputId": "331091ac-0453-4631-96a8-3c905450182d"
      },
      "execution_count": 41,
      "outputs": [
        {
          "output_type": "stream",
          "name": "stdout",
          "text": [
            "+---------+-----+\n",
            "|chave_pix|count|\n",
            "+---------+-----+\n",
            "|aleatoria|24806|\n",
            "|  celular|24852|\n",
            "|    email|25206|\n",
            "|      cpf|25108|\n",
            "+---------+-----+\n",
            "\n"
          ]
        }
      ]
    },
    {
      "cell_type": "markdown",
      "source": [
        "- **Most common transaction values:** Between 11 and 100 reais"
      ],
      "metadata": {
        "id": "DMqdcW00LrXB"
      }
    },
    {
      "cell_type": "code",
      "source": [
        "df_cat.select('valor').groupby('valor').count().sort('count', ascending=False).show()"
      ],
      "metadata": {
        "colab": {
          "base_uri": "https://localhost:8080/"
        },
        "id": "LBjthT57Lx5X",
        "outputId": "b845e7f3-ff6f-44cd-b7da-1b65ec933568"
      },
      "execution_count": 42,
      "outputs": [
        {
          "output_type": "stream",
          "name": "stdout",
          "text": [
            "+-----+-----+\n",
            "|valor|count|\n",
            "+-----+-----+\n",
            "| 8.36|   36|\n",
            "| 4.84|   35|\n",
            "| 8.49|   33|\n",
            "| 2.07|   33|\n",
            "| 5.26|   33|\n",
            "| 7.25|   32|\n",
            "| 7.69|   32|\n",
            "| 5.89|   32|\n",
            "| 2.32|   32|\n",
            "| 5.59|   32|\n",
            "| 5.07|   32|\n",
            "|  0.4|   31|\n",
            "| 1.44|   31|\n",
            "| 9.22|   30|\n",
            "| 7.04|   30|\n",
            "| 2.55|   30|\n",
            "| 7.11|   30|\n",
            "| 4.62|   30|\n",
            "| 1.21|   30|\n",
            "| 4.16|   29|\n",
            "+-----+-----+\n",
            "only showing top 20 rows\n",
            "\n"
          ]
        }
      ]
    },
    {
      "cell_type": "code",
      "source": [
        "df_cat.select('value_range').groupby('value_range').count().show()"
      ],
      "metadata": {
        "colab": {
          "base_uri": "https://localhost:8080/"
        },
        "id": "STxNHbRFLufJ",
        "outputId": "e1aa98b7-9c95-4fd2-b708-ff0d63d985d1"
      },
      "execution_count": 43,
      "outputs": [
        {
          "output_type": "stream",
          "name": "stdout",
          "text": [
            "+-----------+-----+\n",
            "|value_range|count|\n",
            "+-----------+-----+\n",
            "|        10-|19996|\n",
            "|     11-100|20111|\n",
            "|   101-1000|19994|\n",
            "| 1001-10000|20081|\n",
            "|     10000+|19790|\n",
            "+-----------+-----+\n",
            "\n"
          ]
        }
      ]
    },
    {
      "cell_type": "markdown",
      "source": [
        "- **Distribution of transaction values by hour and day:**"
      ],
      "metadata": {
        "id": "TrQlZ1WBMFjP"
      }
    },
    {
      "cell_type": "code",
      "source": [
        "df_cat.select('day_of_week', 'time_range', 'value_range').groupby('day_of_week', 'time_range', 'value_range').count().sort('day_of_week', 'time_range', 'value_range').show()"
      ],
      "metadata": {
        "colab": {
          "base_uri": "https://localhost:8080/"
        },
        "id": "_GQLrtH-Mb4X",
        "outputId": "8e248f18-2a7d-4c7f-8bf0-7df35ef3d01c"
      },
      "execution_count": 44,
      "outputs": [
        {
          "output_type": "stream",
          "name": "stdout",
          "text": [
            "+-----------+----------+-----------+-----+\n",
            "|day_of_week|time_range|value_range|count|\n",
            "+-----------+----------+-----------+-----+\n",
            "|          1|      dawn|        10-|  345|\n",
            "|          1|      dawn|     10000+|  327|\n",
            "|          1|      dawn| 1001-10000|  361|\n",
            "|          1|      dawn|   101-1000|  337|\n",
            "|          1|      dawn|     11-100|  367|\n",
            "|          1|late-night|        10-|  705|\n",
            "|          1|late-night|     10000+|  697|\n",
            "|          1|late-night| 1001-10000|  697|\n",
            "|          1|late-night|   101-1000|  703|\n",
            "|          1|late-night|     11-100|  760|\n",
            "|          1|     night|        10-|  471|\n",
            "|          1|     night|     10000+|  459|\n",
            "|          1|     night| 1001-10000|  489|\n",
            "|          1|     night|   101-1000|  470|\n",
            "|          1|     night|     11-100|  487|\n",
            "|          1| work-hour|        10-| 1275|\n",
            "|          1| work-hour|     10000+| 1266|\n",
            "|          1| work-hour| 1001-10000| 1295|\n",
            "|          1| work-hour|   101-1000| 1339|\n",
            "|          1| work-hour|     11-100| 1335|\n",
            "+-----------+----------+-----------+-----+\n",
            "only showing top 20 rows\n",
            "\n"
          ]
        }
      ]
    },
    {
      "cell_type": "markdown",
      "source": [
        "- **Which banks received the most transfers per day:**\n"
      ],
      "metadata": {
        "id": "CpEp89tKMYSa"
      }
    },
    {
      "cell_type": "code",
      "source": [
        "df_cat.select('day_of_week', 'destinatario_banco').groupby('day_of_week', 'destinatario_banco').count().sort('day_of_week', 'destinatario_banco').show()"
      ],
      "metadata": {
        "colab": {
          "base_uri": "https://localhost:8080/"
        },
        "id": "jeVI6CbGOIPQ",
        "outputId": "5a2b8887-2adf-4e4b-e115-78a197fc373b"
      },
      "execution_count": 45,
      "outputs": [
        {
          "output_type": "stream",
          "name": "stdout",
          "text": [
            "+-----------+------------------+-----+\n",
            "|day_of_week|destinatario_banco|count|\n",
            "+-----------+------------------+-----+\n",
            "|          1|               BTG| 2046|\n",
            "|          1|          Bradesco| 1991|\n",
            "|          1|                C6| 2007|\n",
            "|          1|             Caixa| 2069|\n",
            "|          1|              Itau| 2012|\n",
            "|          1|            Nubank| 2020|\n",
            "|          1|                XP| 2040|\n",
            "|          2|               BTG| 2016|\n",
            "|          2|          Bradesco| 2036|\n",
            "|          2|                C6| 2077|\n",
            "|          2|             Caixa| 2019|\n",
            "|          2|              Itau| 1949|\n",
            "|          2|            Nubank| 1977|\n",
            "|          2|                XP| 2081|\n",
            "|          3|               BTG| 2066|\n",
            "|          3|          Bradesco| 2002|\n",
            "|          3|                C6| 2044|\n",
            "|          3|             Caixa| 2058|\n",
            "|          3|              Itau| 2041|\n",
            "|          3|            Nubank| 1986|\n",
            "+-----------+------------------+-----+\n",
            "only showing top 20 rows\n",
            "\n"
          ]
        }
      ]
    },
    {
      "cell_type": "markdown",
      "source": [
        "- **To which type of person (PF or PJ) more transactions were made:** PJ"
      ],
      "metadata": {
        "id": "3sPb5dqQMafD"
      }
    },
    {
      "cell_type": "code",
      "source": [
        "df_cat.select('destinatario_tipo').groupby('destinatario_tipo').count().show()"
      ],
      "metadata": {
        "colab": {
          "base_uri": "https://localhost:8080/"
        },
        "id": "KDxHpFrYPN8c",
        "outputId": "1372ee66-7adb-4bb7-a90d-3a6f32f9c050"
      },
      "execution_count": 46,
      "outputs": [
        {
          "output_type": "stream",
          "name": "stdout",
          "text": [
            "+-----------------+-----+\n",
            "|destinatario_tipo|count|\n",
            "+-----------------+-----+\n",
            "|               PF|49739|\n",
            "|               PJ|50233|\n",
            "+-----------------+-----+\n",
            "\n"
          ]
        }
      ]
    },
    {
      "cell_type": "markdown",
      "source": [
        "- **To which bank does this customer transfer the most?:** XP\n"
      ],
      "metadata": {
        "id": "MP6huukAPqp8"
      }
    },
    {
      "cell_type": "code",
      "source": [
        "df_cat.select('destinatario_banco').groupby('destinatario_banco').count().sort('count', ascending=False).show()"
      ],
      "metadata": {
        "colab": {
          "base_uri": "https://localhost:8080/"
        },
        "id": "iiCMHwv9RuUt",
        "outputId": "564d651a-d08b-47d6-aaa6-f7eb4e51b743"
      },
      "execution_count": 47,
      "outputs": [
        {
          "output_type": "stream",
          "name": "stdout",
          "text": [
            "+------------------+-----+\n",
            "|destinatario_banco|count|\n",
            "+------------------+-----+\n",
            "|                XP|14399|\n",
            "|               BTG|14389|\n",
            "|            Nubank|14292|\n",
            "|              Itau|14279|\n",
            "|             Caixa|14233|\n",
            "|                C6|14200|\n",
            "|          Bradesco|14180|\n",
            "+------------------+-----+\n",
            "\n"
          ]
        }
      ]
    },
    {
      "cell_type": "markdown",
      "source": [
        "- **What is the number of transfers made by this customer over time?**"
      ],
      "metadata": {
        "id": "pp4E2xbrRo1j"
      }
    },
    {
      "cell_type": "code",
      "source": [
        "df_cat.select('year_month').groupby('year_month').count().sort('year_month').show()"
      ],
      "metadata": {
        "colab": {
          "base_uri": "https://localhost:8080/"
        },
        "id": "3jmQTWMfW_71",
        "outputId": "fff9d80a-818a-4c40-8914-86013f03dacd"
      },
      "execution_count": 48,
      "outputs": [
        {
          "output_type": "stream",
          "name": "stdout",
          "text": [
            "+----------+-----+\n",
            "|year_month|count|\n",
            "+----------+-----+\n",
            "|    2021-1| 2415|\n",
            "|   2021-10| 4233|\n",
            "|   2021-11| 4050|\n",
            "|   2021-12| 4228|\n",
            "|    2021-2| 3793|\n",
            "|    2021-3| 4174|\n",
            "|    2021-4| 4060|\n",
            "|    2021-5| 4301|\n",
            "|    2021-6| 4238|\n",
            "|    2021-7| 4158|\n",
            "|    2021-8| 4250|\n",
            "|    2021-9| 4095|\n",
            "|    2022-1| 4236|\n",
            "|   2022-10| 4198|\n",
            "|   2022-11| 4096|\n",
            "|   2022-12| 4220|\n",
            "|    2022-2| 3855|\n",
            "|    2022-3| 4282|\n",
            "|    2022-4| 4108|\n",
            "|    2022-5| 4241|\n",
            "+----------+-----+\n",
            "only showing top 20 rows\n",
            "\n"
          ]
        }
      ]
    },
    {
      "cell_type": "code",
      "source": [
        "df_cat.select('time_range').groupby('time_range').count().sort('count', ascending=False).show()"
      ],
      "metadata": {
        "colab": {
          "base_uri": "https://localhost:8080/"
        },
        "id": "5ZIVcJW4SO8C",
        "outputId": "fc487a0a-7776-46f1-8046-769ead9ef91a"
      },
      "execution_count": 49,
      "outputs": [
        {
          "output_type": "stream",
          "name": "stdout",
          "text": [
            "+----------+-----+\n",
            "|time_range|count|\n",
            "+----------+-----+\n",
            "| work-hour|45802|\n",
            "|late-night|24952|\n",
            "|     night|16678|\n",
            "|      dawn|12540|\n",
            "+----------+-----+\n",
            "\n"
          ]
        }
      ]
    },
    {
      "cell_type": "code",
      "source": [
        "df_cat.select('day_of_week').groupby('day_of_week').count().sort('count', ascending=False).show()"
      ],
      "metadata": {
        "colab": {
          "base_uri": "https://localhost:8080/"
        },
        "id": "llLl9pmPWFGB",
        "outputId": "f709c536-a5d6-42bf-e2bd-c3de91747bd1"
      },
      "execution_count": 50,
      "outputs": [
        {
          "output_type": "stream",
          "name": "stdout",
          "text": [
            "+-----------+-----+\n",
            "|day_of_week|count|\n",
            "+-----------+-----+\n",
            "|          6|14503|\n",
            "|          5|14476|\n",
            "|          7|14364|\n",
            "|          3|14254|\n",
            "|          1|14185|\n",
            "|          2|14155|\n",
            "|          4|14035|\n",
            "+-----------+-----+\n",
            "\n"
          ]
        }
      ]
    },
    {
      "cell_type": "markdown",
      "source": [
        "- **What category does this customer use transfers for the most?** Transfers"
      ],
      "metadata": {
        "id": "qxx6qspVRs5e"
      }
    },
    {
      "cell_type": "code",
      "source": [
        "df_cat.select('categoria').groupby('categoria').count().sort('count', ascending=False).show()"
      ],
      "metadata": {
        "colab": {
          "base_uri": "https://localhost:8080/"
        },
        "id": "fw_hkfA0XYTc",
        "outputId": "fec16018-88e9-4b84-ce8a-44b547ac20db"
      },
      "execution_count": 51,
      "outputs": [
        {
          "output_type": "stream",
          "name": "stdout",
          "text": [
            "+-------------+-----+\n",
            "|    categoria|count|\n",
            "+-------------+-----+\n",
            "|transferencia|24743|\n",
            "|  alimentacao| 9544|\n",
            "|    vestuario| 9500|\n",
            "|        saude| 9472|\n",
            "|        lazer| 9463|\n",
            "|     educacao| 9457|\n",
            "|       outros| 9374|\n",
            "|    presentes| 9250|\n",
            "|   transporte| 9169|\n",
            "+-------------+-----+\n",
            "\n"
          ]
        }
      ]
    },
    {
      "cell_type": "markdown",
      "source": [
        "Looking for patherns in frauds"
      ],
      "metadata": {
        "id": "4d7X9CyoIsO7"
      }
    },
    {
      "cell_type": "code",
      "source": [
        "df_cat.select('categoria', 'fraude').groupby('categoria', 'fraude').count().sort('count', ascending=False).show()"
      ],
      "metadata": {
        "colab": {
          "base_uri": "https://localhost:8080/"
        },
        "id": "UApa0arjCb7q",
        "outputId": "4170f68a-093d-4574-d382-29dac3406f1b"
      },
      "execution_count": 79,
      "outputs": [
        {
          "output_type": "stream",
          "name": "stdout",
          "text": [
            "+-------------+------+-----+\n",
            "|    categoria|fraude|count|\n",
            "+-------------+------+-----+\n",
            "|transferencia|     1|15367|\n",
            "|  alimentacao|     0| 9544|\n",
            "|    vestuario|     0| 9500|\n",
            "|        saude|     0| 9472|\n",
            "|        lazer|     0| 9463|\n",
            "|     educacao|     0| 9457|\n",
            "|transferencia|     0| 9376|\n",
            "|       outros|     0| 9374|\n",
            "|    presentes|     0| 9250|\n",
            "|   transporte|     0| 9169|\n",
            "+-------------+------+-----+\n",
            "\n"
          ]
        }
      ]
    },
    {
      "cell_type": "code",
      "source": [
        "df_cat.select('categoria', 'fraude', 'value_range').filter(col('fraude')==1).groupby('categoria', 'fraude', 'value_range').count().sort('count', ascending=False).show()"
      ],
      "metadata": {
        "colab": {
          "base_uri": "https://localhost:8080/"
        },
        "id": "U8VDiLuxGsXm",
        "outputId": "0cc05464-ac39-427e-e2e1-b77740d11f30"
      },
      "execution_count": 82,
      "outputs": [
        {
          "output_type": "stream",
          "name": "stdout",
          "text": [
            "+-------------+------+-----------+-----+\n",
            "|    categoria|fraude|value_range|count|\n",
            "+-------------+------+-----------+-----+\n",
            "|transferencia|     1|     10000+|15367|\n",
            "+-------------+------+-----------+-----+\n",
            "\n"
          ]
        }
      ]
    },
    {
      "cell_type": "markdown",
      "source": [
        "All frauds are from \"transferencia\" category and had value bigger than 10000"
      ],
      "metadata": {
        "id": "o4P_B2--G9OZ"
      }
    },
    {
      "cell_type": "markdown",
      "source": [
        "## Data preparation"
      ],
      "metadata": {
        "id": "IwlL_T0rXhdY"
      }
    },
    {
      "cell_type": "markdown",
      "source": [
        "Encoding"
      ],
      "metadata": {
        "id": "aJhZ-VOyYH4z"
      }
    },
    {
      "cell_type": "code",
      "source": [
        "indexer = StringIndexer(\n",
        "    inputCols=[\n",
        "        'destinatario_banco',\n",
        "        'destinatario_tipo',\n",
        "        'chave_pix',\n",
        "        'categoria',\n",
        "        'value_range',\n",
        "        'time_range',\n",
        "        'year_month'\n",
        "        ],\n",
        "    outputCols=[\n",
        "        'destinatario_banco_index',\n",
        "        'destinatario_tipo_index',\n",
        "        'chave_pix_index',\n",
        "        'categoria_index',\n",
        "        'value_range_index',\n",
        "        'time_range_index',\n",
        "        'year_month_index'\n",
        "        ],\n",
        ")"
      ],
      "metadata": {
        "id": "kez7IphqXjhs"
      },
      "execution_count": 52,
      "outputs": []
    },
    {
      "cell_type": "code",
      "source": [
        "df_model = indexer.fit(df_cat).transform(df_cat)\n",
        "df_model = df_model.drop(\n",
        "        'destinatario_nome',    # too many values\n",
        "        'destinatario_banco',\n",
        "        'destinatario_tipo',\n",
        "        'chave_pix',\n",
        "        'categoria',\n",
        "        'value_range',\n",
        "        'time_range',\n",
        "        'year_month',\n",
        "        'id_transacao',\n",
        "        'transaction_date',\n",
        "        'hour',\n",
        "        'valor'\n",
        "        )"
      ],
      "metadata": {
        "id": "KfZN3lJeYJSq"
      },
      "execution_count": 53,
      "outputs": []
    },
    {
      "cell_type": "code",
      "source": [
        "df_model.printSchema(),\n",
        "df_model.show()"
      ],
      "metadata": {
        "colab": {
          "base_uri": "https://localhost:8080/"
        },
        "id": "Ktl7LogJZYpr",
        "outputId": "f15f4f9f-3729-4b19-c367-e6a2e1cc0d14"
      },
      "execution_count": 54,
      "outputs": [
        {
          "output_type": "stream",
          "name": "stdout",
          "text": [
            "root\n",
            " |-- fraude: integer (nullable = true)\n",
            " |-- day_of_week: integer (nullable = true)\n",
            " |-- destinatario_banco_index: double (nullable = false)\n",
            " |-- destinatario_tipo_index: double (nullable = false)\n",
            " |-- chave_pix_index: double (nullable = false)\n",
            " |-- categoria_index: double (nullable = false)\n",
            " |-- value_range_index: double (nullable = false)\n",
            " |-- time_range_index: double (nullable = false)\n",
            " |-- year_month_index: double (nullable = false)\n",
            "\n",
            "+------+-----------+------------------------+-----------------------+---------------+---------------+-----------------+----------------+----------------+\n",
            "|fraude|day_of_week|destinatario_banco_index|destinatario_tipo_index|chave_pix_index|categoria_index|value_range_index|time_range_index|year_month_index|\n",
            "+------+-----------+------------------------+-----------------------+---------------+---------------+-----------------+----------------+----------------+\n",
            "|     0|          6|                     4.0|                    1.0|            3.0|            6.0|              3.0|             3.0|            13.0|\n",
            "|     1|          4|                     4.0|                    0.0|            2.0|            0.0|              4.0|             0.0|            15.0|\n",
            "|     0|          1|                     2.0|                    1.0|            1.0|            4.0|              3.0|             0.0|             0.0|\n",
            "|     0|          5|                     2.0|                    0.0|            3.0|            8.0|              0.0|             0.0|            11.0|\n",
            "|     0|          3|                     1.0|                    0.0|            0.0|            0.0|              4.0|             2.0|            19.0|\n",
            "|     0|          1|                     3.0|                    0.0|            3.0|            3.0|              1.0|             0.0|             0.0|\n",
            "|     0|          4|                     5.0|                    1.0|            1.0|            7.0|              1.0|             2.0|            11.0|\n",
            "|     0|          7|                     0.0|                    0.0|            1.0|            2.0|              1.0|             0.0|            19.0|\n",
            "|     0|          3|                     5.0|                    0.0|            3.0|            3.0|              2.0|             2.0|            20.0|\n",
            "|     0|          2|                     0.0|                    0.0|            1.0|            0.0|              0.0|             1.0|            13.0|\n",
            "|     1|          2|                     2.0|                    1.0|            3.0|            0.0|              4.0|             0.0|             2.0|\n",
            "|     1|          1|                     2.0|                    0.0|            1.0|            0.0|              4.0|             1.0|             7.0|\n",
            "|     1|          6|                     6.0|                    0.0|            2.0|            0.0|              4.0|             2.0|            19.0|\n",
            "|     0|          6|                     5.0|                    0.0|            1.0|            1.0|              0.0|             0.0|            24.0|\n",
            "|     0|          6|                     3.0|                    0.0|            3.0|            2.0|              3.0|             1.0|             4.0|\n",
            "|     0|          4|                     2.0|                    0.0|            0.0|            3.0|              2.0|             2.0|             7.0|\n",
            "|     0|          1|                     2.0|                    0.0|            0.0|            1.0|              4.0|             0.0|             2.0|\n",
            "|     0|          6|                     5.0|                    0.0|            3.0|            2.0|              0.0|             0.0|            15.0|\n",
            "|     0|          2|                     5.0|                    1.0|            2.0|            2.0|              3.0|             1.0|             4.0|\n",
            "|     1|          4|                     3.0|                    0.0|            0.0|            0.0|              4.0|             1.0|             3.0|\n",
            "+------+-----------+------------------------+-----------------------+---------------+---------------+-----------------+----------------+----------------+\n",
            "only showing top 20 rows\n",
            "\n"
          ]
        }
      ]
    },
    {
      "cell_type": "code",
      "source": [
        "df_model = (\n",
        "            df_model.withColumn('destinatario_banco_index', col('destinatario_banco_index').cast('int'))\n",
        "            .withColumn('destinatario_tipo_index', col('destinatario_tipo_index').cast('int'))\n",
        "            .withColumn('chave_pix_index', col('chave_pix_index').cast('int'))\n",
        "            .withColumn('categoria_index', col('categoria_index').cast('int'))\n",
        "            .withColumn('value_range_index', col('value_range_index').cast('int'))\n",
        "            .withColumn('time_range_index', col('time_range_index').cast('int'))\n",
        "            .withColumn('year_month_index', col('year_month_index').cast('int'))\n",
        ")"
      ],
      "metadata": {
        "id": "Ix-TS3UZZ8M6"
      },
      "execution_count": 55,
      "outputs": []
    },
    {
      "cell_type": "code",
      "source": [
        "df_model.printSchema(),\n",
        "df_model.show()"
      ],
      "metadata": {
        "colab": {
          "base_uri": "https://localhost:8080/"
        },
        "id": "gtMFGGckaoDD",
        "outputId": "c452c881-cc5f-43e4-dc06-de82c370de55"
      },
      "execution_count": 56,
      "outputs": [
        {
          "output_type": "stream",
          "name": "stdout",
          "text": [
            "root\n",
            " |-- fraude: integer (nullable = true)\n",
            " |-- day_of_week: integer (nullable = true)\n",
            " |-- destinatario_banco_index: integer (nullable = true)\n",
            " |-- destinatario_tipo_index: integer (nullable = true)\n",
            " |-- chave_pix_index: integer (nullable = true)\n",
            " |-- categoria_index: integer (nullable = true)\n",
            " |-- value_range_index: integer (nullable = true)\n",
            " |-- time_range_index: integer (nullable = true)\n",
            " |-- year_month_index: integer (nullable = true)\n",
            "\n",
            "+------+-----------+------------------------+-----------------------+---------------+---------------+-----------------+----------------+----------------+\n",
            "|fraude|day_of_week|destinatario_banco_index|destinatario_tipo_index|chave_pix_index|categoria_index|value_range_index|time_range_index|year_month_index|\n",
            "+------+-----------+------------------------+-----------------------+---------------+---------------+-----------------+----------------+----------------+\n",
            "|     0|          6|                       4|                      1|              3|              6|                3|               3|              13|\n",
            "|     1|          4|                       4|                      0|              2|              0|                4|               0|              15|\n",
            "|     0|          1|                       2|                      1|              1|              4|                3|               0|               0|\n",
            "|     0|          5|                       2|                      0|              3|              8|                0|               0|              11|\n",
            "|     0|          3|                       1|                      0|              0|              0|                4|               2|              19|\n",
            "|     0|          1|                       3|                      0|              3|              3|                1|               0|               0|\n",
            "|     0|          4|                       5|                      1|              1|              7|                1|               2|              11|\n",
            "|     0|          7|                       0|                      0|              1|              2|                1|               0|              19|\n",
            "|     0|          3|                       5|                      0|              3|              3|                2|               2|              20|\n",
            "|     0|          2|                       0|                      0|              1|              0|                0|               1|              13|\n",
            "|     1|          2|                       2|                      1|              3|              0|                4|               0|               2|\n",
            "|     1|          1|                       2|                      0|              1|              0|                4|               1|               7|\n",
            "|     1|          6|                       6|                      0|              2|              0|                4|               2|              19|\n",
            "|     0|          6|                       5|                      0|              1|              1|                0|               0|              24|\n",
            "|     0|          6|                       3|                      0|              3|              2|                3|               1|               4|\n",
            "|     0|          4|                       2|                      0|              0|              3|                2|               2|               7|\n",
            "|     0|          1|                       2|                      0|              0|              1|                4|               0|               2|\n",
            "|     0|          6|                       5|                      0|              3|              2|                0|               0|              15|\n",
            "|     0|          2|                       5|                      1|              2|              2|                3|               1|               4|\n",
            "|     1|          4|                       3|                      0|              0|              0|                4|               1|               3|\n",
            "+------+-----------+------------------------+-----------------------+---------------+---------------+-----------------+----------------+----------------+\n",
            "only showing top 20 rows\n",
            "\n"
          ]
        }
      ]
    },
    {
      "cell_type": "code",
      "source": [
        "train, test = df_model.randomSplit([0.8, 0.2], seed=0)\n",
        "train.count(), test.count()"
      ],
      "metadata": {
        "colab": {
          "base_uri": "https://localhost:8080/"
        },
        "id": "jKBANcyzrVBq",
        "outputId": "c4c89279-183c-4a0f-8cb7-e0991c9403da"
      },
      "execution_count": 57,
      "outputs": [
        {
          "output_type": "execute_result",
          "data": {
            "text/plain": [
              "(79812, 20160)"
            ]
          },
          "metadata": {},
          "execution_count": 57
        }
      ]
    },
    {
      "cell_type": "markdown",
      "source": [
        "## Modeling"
      ],
      "metadata": {
        "id": "mtjyiLblrQq6"
      }
    },
    {
      "cell_type": "code",
      "source": [
        "assembler = VectorAssembler(\n",
        "    inputCols = [x for x in train.columns if x not in ['fraude']],\n",
        "    outputCol = 'features'\n",
        ")"
      ],
      "metadata": {
        "id": "KApSRHrerSeS"
      },
      "execution_count": 58,
      "outputs": []
    },
    {
      "cell_type": "markdown",
      "source": [
        "Logistic Regression"
      ],
      "metadata": {
        "id": "16yCOpRnsERt"
      }
    },
    {
      "cell_type": "code",
      "source": [
        "lr = LogisticRegression().setParams(\n",
        "    maxIter=100000,\n",
        "    labelCol='fraude',\n",
        "    predictionCol='prediction'\n",
        ")"
      ],
      "metadata": {
        "id": "PjorIwQ7r1im"
      },
      "execution_count": 59,
      "outputs": []
    },
    {
      "cell_type": "code",
      "source": [
        "model = Pipeline(stages=[assembler, lr]).fit(train)"
      ],
      "metadata": {
        "id": "drHLrzLXr7M3"
      },
      "execution_count": 60,
      "outputs": []
    },
    {
      "cell_type": "code",
      "source": [
        "predicted = model.transform(test)"
      ],
      "metadata": {
        "id": "FFnDMFuJr82P"
      },
      "execution_count": 61,
      "outputs": []
    },
    {
      "cell_type": "code",
      "source": [
        "predicted.crosstab('fraude', 'prediction').show()"
      ],
      "metadata": {
        "colab": {
          "base_uri": "https://localhost:8080/"
        },
        "id": "kBvl_-d_r9VT",
        "outputId": "f0e568ea-8581-48b1-f438-7d239155edbe"
      },
      "execution_count": 62,
      "outputs": [
        {
          "output_type": "stream",
          "name": "stdout",
          "text": [
            "+-----------------+-----+----+\n",
            "|fraude_prediction|  0.0| 1.0|\n",
            "+-----------------+-----+----+\n",
            "|                0|16951| 105|\n",
            "|                1|    0|3104|\n",
            "+-----------------+-----+----+\n",
            "\n"
          ]
        }
      ]
    },
    {
      "cell_type": "code",
      "source": [
        "predictionAndLabels = predicted.select(col('prediction').cast('double'), col('fraude').cast('double')).rdd\n",
        "metrics = MulticlassMetrics(predictionAndLabels)"
      ],
      "metadata": {
        "colab": {
          "base_uri": "https://localhost:8080/"
        },
        "id": "_xv_T2Nwu4JC",
        "outputId": "a533e9c7-8e15-42e3-8d9e-847375ff461d"
      },
      "execution_count": 63,
      "outputs": [
        {
          "output_type": "stream",
          "name": "stderr",
          "text": [
            "/usr/local/lib/python3.10/dist-packages/pyspark/sql/context.py:158: FutureWarning: Deprecated in 3.0.0. Use SparkSession.builder.getOrCreate() instead.\n",
            "  warnings.warn(\n"
          ]
        }
      ]
    },
    {
      "cell_type": "code",
      "source": [
        "print(f'Accuracy: {metrics.accuracy}')\n",
        "print(f'Precision: {metrics.precision(1)}')\n",
        "print(f'Recall: {metrics.recall(1)}')"
      ],
      "metadata": {
        "colab": {
          "base_uri": "https://localhost:8080/"
        },
        "id": "UzIfG-74sABb",
        "outputId": "c31c1209-bb95-4be4-fc6d-ee5c0d56ce46"
      },
      "execution_count": 64,
      "outputs": [
        {
          "output_type": "stream",
          "name": "stdout",
          "text": [
            "Accuracy: 0.9947916666666666\n",
            "Precision: 0.9672795263321907\n",
            "Recall: 1.0\n"
          ]
        }
      ]
    },
    {
      "cell_type": "markdown",
      "source": [
        "Random Forest"
      ],
      "metadata": {
        "id": "aWwEZ_jrvtf2"
      }
    },
    {
      "cell_type": "code",
      "source": [
        "rf = RandomForestClassifier().setParams(\n",
        "    labelCol='fraude',\n",
        "    predictionCol='prediction',\n",
        "    maxDepth=5,\n",
        "    numTrees=1000\n",
        ")"
      ],
      "metadata": {
        "id": "lIha7EQvvwe_"
      },
      "execution_count": 65,
      "outputs": []
    },
    {
      "cell_type": "code",
      "source": [
        "model = Pipeline(stages=[assembler, rf]).fit(train)"
      ],
      "metadata": {
        "id": "1fYjBr5Rv4rH"
      },
      "execution_count": 66,
      "outputs": []
    },
    {
      "cell_type": "code",
      "source": [
        "predicted = model.transform(test)"
      ],
      "metadata": {
        "id": "St9VyhMSv8-G"
      },
      "execution_count": 67,
      "outputs": []
    },
    {
      "cell_type": "code",
      "source": [
        "predicted.crosstab('fraude', 'prediction').show() # confusionmatrix"
      ],
      "metadata": {
        "colab": {
          "base_uri": "https://localhost:8080/"
        },
        "id": "VPbpcyWDv-oR",
        "outputId": "378f4a3a-3140-44ac-82bd-ed1c6deb8824"
      },
      "execution_count": 68,
      "outputs": [
        {
          "output_type": "stream",
          "name": "stdout",
          "text": [
            "+-----------------+-----+----+\n",
            "|fraude_prediction|  0.0| 1.0|\n",
            "+-----------------+-----+----+\n",
            "|                0|16951| 105|\n",
            "|                1|    0|3104|\n",
            "+-----------------+-----+----+\n",
            "\n"
          ]
        }
      ]
    },
    {
      "cell_type": "code",
      "source": [
        "predictionAndLabels = predicted.select(col('prediction').cast('double'), col('fraude').cast('double')).rdd\n",
        "metrics = MulticlassMetrics(predictionAndLabels)"
      ],
      "metadata": {
        "id": "u439uKp-wDTH"
      },
      "execution_count": 69,
      "outputs": []
    },
    {
      "cell_type": "code",
      "source": [
        "print(f'Accuracy: {metrics.accuracy}')\n",
        "print(f'Precision: {metrics.precision(1)}')\n",
        "print(f'Recall: {metrics.recall(1)}')"
      ],
      "metadata": {
        "colab": {
          "base_uri": "https://localhost:8080/"
        },
        "id": "hvVgYeJmwAfN",
        "outputId": "de4a9e8e-6cdf-4779-83b0-fb88f43a8a34"
      },
      "execution_count": 70,
      "outputs": [
        {
          "output_type": "stream",
          "name": "stdout",
          "text": [
            "Accuracy: 0.9947916666666666\n",
            "Precision: 0.9672795263321907\n",
            "Recall: 1.0\n"
          ]
        }
      ]
    },
    {
      "cell_type": "code",
      "source": [
        "model.stages[1].featureImportances"
      ],
      "metadata": {
        "colab": {
          "base_uri": "https://localhost:8080/"
        },
        "id": "cv_m7Bb1wNdT",
        "outputId": "9d8a69ba-7024-40a0-90d7-6a7dc84e6697"
      },
      "execution_count": 71,
      "outputs": [
        {
          "output_type": "execute_result",
          "data": {
            "text/plain": [
              "SparseVector(8, {0: 0.0001, 1: 0.0001, 2: 0.0, 3: 0.0001, 4: 0.3708, 5: 0.6287, 6: 0.0001, 7: 0.0001})"
            ]
          },
          "metadata": {},
          "execution_count": 71
        }
      ]
    },
    {
      "cell_type": "markdown",
      "source": [
        "Removing less importante features and trying again"
      ],
      "metadata": {
        "id": "NprOUqN5xYXG"
      }
    },
    {
      "cell_type": "code",
      "source": [
        "train0 = train.drop('day_of_week', 'destinatario_banco_index', 'destinatario_tipo_index',\n",
        "                    'chave_pix_index', 'time_range_index', 'year_month_index')\n",
        "test0 = test.drop('day_of_week', 'destinatario_banco_index', 'destinatario_tipo_index',\n",
        "                    'chave_pix_index', 'time_range_index', 'year_month_index')"
      ],
      "metadata": {
        "id": "pSvFnuMuxlum"
      },
      "execution_count": 72,
      "outputs": []
    },
    {
      "cell_type": "code",
      "source": [
        "assembler = VectorAssembler(\n",
        "    inputCols = [x for x in train0.columns if x not in ['fraude']],\n",
        "    outputCol = 'features'\n",
        ")"
      ],
      "metadata": {
        "id": "6FFaLQngyx0W"
      },
      "execution_count": 73,
      "outputs": []
    },
    {
      "cell_type": "code",
      "source": [
        "lr = LogisticRegression().setParams(\n",
        "    maxIter=100000,\n",
        "    labelCol='fraude',\n",
        "    predictionCol='prediction'\n",
        ")"
      ],
      "metadata": {
        "id": "_1cvetiayznq"
      },
      "execution_count": 74,
      "outputs": []
    },
    {
      "cell_type": "code",
      "source": [
        "model = Pipeline(stages=[assembler, rf]).fit(train0)"
      ],
      "metadata": {
        "id": "jn81aJYly438"
      },
      "execution_count": 75,
      "outputs": []
    },
    {
      "cell_type": "code",
      "source": [
        "predicted = model.transform(test0)"
      ],
      "metadata": {
        "id": "P15oTSL2y8A-"
      },
      "execution_count": 76,
      "outputs": []
    },
    {
      "cell_type": "code",
      "source": [
        "predicted.crosstab('fraude', 'prediction').show() # confusionmatrix"
      ],
      "metadata": {
        "colab": {
          "base_uri": "https://localhost:8080/"
        },
        "id": "CUkO8Cm1zG-7",
        "outputId": "0508f0a4-ec4c-4279-ff4a-c6779598faf7"
      },
      "execution_count": 77,
      "outputs": [
        {
          "output_type": "stream",
          "name": "stdout",
          "text": [
            "+-----------------+-----+----+\n",
            "|fraude_prediction|  0.0| 1.0|\n",
            "+-----------------+-----+----+\n",
            "|                0|16951| 105|\n",
            "|                1|    0|3104|\n",
            "+-----------------+-----+----+\n",
            "\n"
          ]
        }
      ]
    },
    {
      "cell_type": "code",
      "source": [
        "predictionAndLabels = predicted.select(col('prediction').cast('double'), col('fraude').cast('double')).rdd\n",
        "metrics = MulticlassMetrics(predictionAndLabels)\n",
        "print(f'Accuracy: {metrics.accuracy}')\n",
        "print(f'Precision: {metrics.precision(1)}')\n",
        "print(f'Recall: {metrics.recall(1)}')"
      ],
      "metadata": {
        "colab": {
          "base_uri": "https://localhost:8080/"
        },
        "id": "g-PfyLW9zJre",
        "outputId": "727ce062-9008-471f-f7c3-3d5370ed5bdb"
      },
      "execution_count": 78,
      "outputs": [
        {
          "output_type": "stream",
          "name": "stdout",
          "text": [
            "Accuracy: 0.9947916666666666\n",
            "Precision: 0.9672795263321907\n",
            "Recall: 1.0\n"
          ]
        }
      ]
    },
    {
      "cell_type": "markdown",
      "source": [
        "The results were the same. We can now confirm that  category and value range are the predictors for fraud.\n",
        "\n",
        "\n",
        "Better to use this second cause it demands less memory."
      ],
      "metadata": {
        "id": "PMnFDvQ5zVsw"
      }
    },
    {
      "cell_type": "markdown",
      "source": [
        "Evaluating time to predict"
      ],
      "metadata": {
        "id": "Q68aJIa0J8Ys"
      }
    },
    {
      "cell_type": "code",
      "source": [
        "%%time\n",
        "predicted = model.transform(test0.sample(False, 0.1, seed=0).limit(1))\n",
        "predicted.show()"
      ],
      "metadata": {
        "colab": {
          "base_uri": "https://localhost:8080/"
        },
        "id": "oQkSInR1J7Rm",
        "outputId": "f5703d16-91be-45d6-b8fb-77e246c4497c"
      },
      "execution_count": 88,
      "outputs": [
        {
          "output_type": "stream",
          "name": "stdout",
          "text": [
            "+------+---------------+-----------------+---------+-------------+-----------+----------+\n",
            "|fraude|categoria_index|value_range_index| features|rawPrediction|probability|prediction|\n",
            "+------+---------------+-----------------+---------+-------------+-----------+----------+\n",
            "|     0|              1|                1|[1.0,1.0]| [1000.0,0.0]|  [1.0,0.0]|       0.0|\n",
            "+------+---------------+-----------------+---------+-------------+-----------+----------+\n",
            "\n",
            "CPU times: user 44.2 ms, sys: 5.27 ms, total: 49.5 ms\n",
            "Wall time: 3.88 s\n"
          ]
        }
      ]
    },
    {
      "cell_type": "markdown",
      "source": [
        "# **Final Report**\n",
        "\n",
        "We could found that this client has a large amount of transfers, especially for PJ accounts. He may be using his personal account for business purposes, we may approach him to get a better understanding/account.\n",
        "\n",
        "It was possible to identify that all frauds were made in transfer category and were worth more than 10.000. Therefore, we recommend to reduce his fixed limit to avoid frauds. Whenever he needs to transfer this values he can manually unblock.\n",
        "\n",
        "Our Machine Learning model detected all frauds and had only 3,3% of false alerts. It runs in less than 4s."
      ],
      "metadata": {
        "id": "GEohKz0CHQzx"
      }
    }
  ]
}